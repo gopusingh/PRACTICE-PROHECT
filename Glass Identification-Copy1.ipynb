{
 "cells": [
  {
   "cell_type": "markdown",
   "id": "3b1e86bb",
   "metadata": {},
   "source": [
    "# Glass Identification"
   ]
  },
  {
   "cell_type": "markdown",
   "id": "ed5da267",
   "metadata": {},
   "source": [
    "."
   ]
  },
  {
   "cell_type": "markdown",
   "id": "86ed83d6",
   "metadata": {},
   "source": [
    "."
   ]
  },
  {
   "cell_type": "markdown",
   "id": "4e7949af",
   "metadata": {},
   "source": [
    "### name = Divyanshu Singh\n",
    "### batch= DS2306"
   ]
  },
  {
   "cell_type": "markdown",
   "id": "a4b95cac",
   "metadata": {},
   "source": [
    "."
   ]
  },
  {
   "cell_type": "code",
   "execution_count": 1,
   "id": "ebff1fa9",
   "metadata": {},
   "outputs": [],
   "source": [
    "import pandas as pd\n",
    "import numpy as np\n",
    "import seaborn as sns\n",
    "import matplotlib.pyplot as plt"
   ]
  },
  {
   "cell_type": "code",
   "execution_count": 2,
   "id": "d6837505",
   "metadata": {},
   "outputs": [
    {
     "data": {
      "text/html": [
       "<div>\n",
       "<style scoped>\n",
       "    .dataframe tbody tr th:only-of-type {\n",
       "        vertical-align: middle;\n",
       "    }\n",
       "\n",
       "    .dataframe tbody tr th {\n",
       "        vertical-align: top;\n",
       "    }\n",
       "\n",
       "    .dataframe thead th {\n",
       "        text-align: right;\n",
       "    }\n",
       "</style>\n",
       "<table border=\"1\" class=\"dataframe\">\n",
       "  <thead>\n",
       "    <tr style=\"text-align: right;\">\n",
       "      <th></th>\n",
       "      <th>1</th>\n",
       "      <th>1.52101</th>\n",
       "      <th>13.64</th>\n",
       "      <th>4.49</th>\n",
       "      <th>1.10</th>\n",
       "      <th>71.78</th>\n",
       "      <th>0.06</th>\n",
       "      <th>8.75</th>\n",
       "      <th>0.00</th>\n",
       "      <th>0.00.1</th>\n",
       "      <th>1.1</th>\n",
       "    </tr>\n",
       "  </thead>\n",
       "  <tbody>\n",
       "    <tr>\n",
       "      <th>0</th>\n",
       "      <td>2</td>\n",
       "      <td>1.51761</td>\n",
       "      <td>13.89</td>\n",
       "      <td>3.60</td>\n",
       "      <td>1.36</td>\n",
       "      <td>72.73</td>\n",
       "      <td>0.48</td>\n",
       "      <td>7.83</td>\n",
       "      <td>0.00</td>\n",
       "      <td>0.00</td>\n",
       "      <td>1</td>\n",
       "    </tr>\n",
       "    <tr>\n",
       "      <th>1</th>\n",
       "      <td>3</td>\n",
       "      <td>1.51618</td>\n",
       "      <td>13.53</td>\n",
       "      <td>3.55</td>\n",
       "      <td>1.54</td>\n",
       "      <td>72.99</td>\n",
       "      <td>0.39</td>\n",
       "      <td>7.78</td>\n",
       "      <td>0.00</td>\n",
       "      <td>0.00</td>\n",
       "      <td>1</td>\n",
       "    </tr>\n",
       "    <tr>\n",
       "      <th>2</th>\n",
       "      <td>4</td>\n",
       "      <td>1.51766</td>\n",
       "      <td>13.21</td>\n",
       "      <td>3.69</td>\n",
       "      <td>1.29</td>\n",
       "      <td>72.61</td>\n",
       "      <td>0.57</td>\n",
       "      <td>8.22</td>\n",
       "      <td>0.00</td>\n",
       "      <td>0.00</td>\n",
       "      <td>1</td>\n",
       "    </tr>\n",
       "    <tr>\n",
       "      <th>3</th>\n",
       "      <td>5</td>\n",
       "      <td>1.51742</td>\n",
       "      <td>13.27</td>\n",
       "      <td>3.62</td>\n",
       "      <td>1.24</td>\n",
       "      <td>73.08</td>\n",
       "      <td>0.55</td>\n",
       "      <td>8.07</td>\n",
       "      <td>0.00</td>\n",
       "      <td>0.00</td>\n",
       "      <td>1</td>\n",
       "    </tr>\n",
       "    <tr>\n",
       "      <th>4</th>\n",
       "      <td>6</td>\n",
       "      <td>1.51596</td>\n",
       "      <td>12.79</td>\n",
       "      <td>3.61</td>\n",
       "      <td>1.62</td>\n",
       "      <td>72.97</td>\n",
       "      <td>0.64</td>\n",
       "      <td>8.07</td>\n",
       "      <td>0.00</td>\n",
       "      <td>0.26</td>\n",
       "      <td>1</td>\n",
       "    </tr>\n",
       "    <tr>\n",
       "      <th>...</th>\n",
       "      <td>...</td>\n",
       "      <td>...</td>\n",
       "      <td>...</td>\n",
       "      <td>...</td>\n",
       "      <td>...</td>\n",
       "      <td>...</td>\n",
       "      <td>...</td>\n",
       "      <td>...</td>\n",
       "      <td>...</td>\n",
       "      <td>...</td>\n",
       "      <td>...</td>\n",
       "    </tr>\n",
       "    <tr>\n",
       "      <th>208</th>\n",
       "      <td>210</td>\n",
       "      <td>1.51623</td>\n",
       "      <td>14.14</td>\n",
       "      <td>0.00</td>\n",
       "      <td>2.88</td>\n",
       "      <td>72.61</td>\n",
       "      <td>0.08</td>\n",
       "      <td>9.18</td>\n",
       "      <td>1.06</td>\n",
       "      <td>0.00</td>\n",
       "      <td>7</td>\n",
       "    </tr>\n",
       "    <tr>\n",
       "      <th>209</th>\n",
       "      <td>211</td>\n",
       "      <td>1.51685</td>\n",
       "      <td>14.92</td>\n",
       "      <td>0.00</td>\n",
       "      <td>1.99</td>\n",
       "      <td>73.06</td>\n",
       "      <td>0.00</td>\n",
       "      <td>8.40</td>\n",
       "      <td>1.59</td>\n",
       "      <td>0.00</td>\n",
       "      <td>7</td>\n",
       "    </tr>\n",
       "    <tr>\n",
       "      <th>210</th>\n",
       "      <td>212</td>\n",
       "      <td>1.52065</td>\n",
       "      <td>14.36</td>\n",
       "      <td>0.00</td>\n",
       "      <td>2.02</td>\n",
       "      <td>73.42</td>\n",
       "      <td>0.00</td>\n",
       "      <td>8.44</td>\n",
       "      <td>1.64</td>\n",
       "      <td>0.00</td>\n",
       "      <td>7</td>\n",
       "    </tr>\n",
       "    <tr>\n",
       "      <th>211</th>\n",
       "      <td>213</td>\n",
       "      <td>1.51651</td>\n",
       "      <td>14.38</td>\n",
       "      <td>0.00</td>\n",
       "      <td>1.94</td>\n",
       "      <td>73.61</td>\n",
       "      <td>0.00</td>\n",
       "      <td>8.48</td>\n",
       "      <td>1.57</td>\n",
       "      <td>0.00</td>\n",
       "      <td>7</td>\n",
       "    </tr>\n",
       "    <tr>\n",
       "      <th>212</th>\n",
       "      <td>214</td>\n",
       "      <td>1.51711</td>\n",
       "      <td>14.23</td>\n",
       "      <td>0.00</td>\n",
       "      <td>2.08</td>\n",
       "      <td>73.36</td>\n",
       "      <td>0.00</td>\n",
       "      <td>8.62</td>\n",
       "      <td>1.67</td>\n",
       "      <td>0.00</td>\n",
       "      <td>7</td>\n",
       "    </tr>\n",
       "  </tbody>\n",
       "</table>\n",
       "<p>213 rows × 11 columns</p>\n",
       "</div>"
      ],
      "text/plain": [
       "       1  1.52101  13.64  4.49  1.10  71.78  0.06  8.75  0.00  0.00.1  1.1\n",
       "0      2  1.51761  13.89  3.60  1.36  72.73  0.48  7.83  0.00    0.00    1\n",
       "1      3  1.51618  13.53  3.55  1.54  72.99  0.39  7.78  0.00    0.00    1\n",
       "2      4  1.51766  13.21  3.69  1.29  72.61  0.57  8.22  0.00    0.00    1\n",
       "3      5  1.51742  13.27  3.62  1.24  73.08  0.55  8.07  0.00    0.00    1\n",
       "4      6  1.51596  12.79  3.61  1.62  72.97  0.64  8.07  0.00    0.26    1\n",
       "..   ...      ...    ...   ...   ...    ...   ...   ...   ...     ...  ...\n",
       "208  210  1.51623  14.14  0.00  2.88  72.61  0.08  9.18  1.06    0.00    7\n",
       "209  211  1.51685  14.92  0.00  1.99  73.06  0.00  8.40  1.59    0.00    7\n",
       "210  212  1.52065  14.36  0.00  2.02  73.42  0.00  8.44  1.64    0.00    7\n",
       "211  213  1.51651  14.38  0.00  1.94  73.61  0.00  8.48  1.57    0.00    7\n",
       "212  214  1.51711  14.23  0.00  2.08  73.36  0.00  8.62  1.67    0.00    7\n",
       "\n",
       "[213 rows x 11 columns]"
      ]
     },
     "execution_count": 2,
     "metadata": {},
     "output_type": "execute_result"
    }
   ],
   "source": [
    "df = pd.read_csv(\"glass.csv\")\n",
    "df"
   ]
  },
  {
   "cell_type": "code",
   "execution_count": 3,
   "id": "67556e35",
   "metadata": {},
   "outputs": [
    {
     "data": {
      "text/html": [
       "<div>\n",
       "<style scoped>\n",
       "    .dataframe tbody tr th:only-of-type {\n",
       "        vertical-align: middle;\n",
       "    }\n",
       "\n",
       "    .dataframe tbody tr th {\n",
       "        vertical-align: top;\n",
       "    }\n",
       "\n",
       "    .dataframe thead th {\n",
       "        text-align: right;\n",
       "    }\n",
       "</style>\n",
       "<table border=\"1\" class=\"dataframe\">\n",
       "  <thead>\n",
       "    <tr style=\"text-align: right;\">\n",
       "      <th></th>\n",
       "      <th>RI</th>\n",
       "      <th>Na</th>\n",
       "      <th>Mg</th>\n",
       "      <th>AI</th>\n",
       "      <th>SI</th>\n",
       "      <th>K</th>\n",
       "      <th>Ca</th>\n",
       "      <th>Ba</th>\n",
       "      <th>Fe</th>\n",
       "      <th>Types of glass</th>\n",
       "    </tr>\n",
       "    <tr>\n",
       "      <th>id</th>\n",
       "      <th></th>\n",
       "      <th></th>\n",
       "      <th></th>\n",
       "      <th></th>\n",
       "      <th></th>\n",
       "      <th></th>\n",
       "      <th></th>\n",
       "      <th></th>\n",
       "      <th></th>\n",
       "      <th></th>\n",
       "    </tr>\n",
       "  </thead>\n",
       "  <tbody>\n",
       "    <tr>\n",
       "      <th>2</th>\n",
       "      <td>1.51761</td>\n",
       "      <td>13.89</td>\n",
       "      <td>3.60</td>\n",
       "      <td>1.36</td>\n",
       "      <td>72.73</td>\n",
       "      <td>0.48</td>\n",
       "      <td>7.83</td>\n",
       "      <td>0.0</td>\n",
       "      <td>0.00</td>\n",
       "      <td>1</td>\n",
       "    </tr>\n",
       "    <tr>\n",
       "      <th>3</th>\n",
       "      <td>1.51618</td>\n",
       "      <td>13.53</td>\n",
       "      <td>3.55</td>\n",
       "      <td>1.54</td>\n",
       "      <td>72.99</td>\n",
       "      <td>0.39</td>\n",
       "      <td>7.78</td>\n",
       "      <td>0.0</td>\n",
       "      <td>0.00</td>\n",
       "      <td>1</td>\n",
       "    </tr>\n",
       "    <tr>\n",
       "      <th>4</th>\n",
       "      <td>1.51766</td>\n",
       "      <td>13.21</td>\n",
       "      <td>3.69</td>\n",
       "      <td>1.29</td>\n",
       "      <td>72.61</td>\n",
       "      <td>0.57</td>\n",
       "      <td>8.22</td>\n",
       "      <td>0.0</td>\n",
       "      <td>0.00</td>\n",
       "      <td>1</td>\n",
       "    </tr>\n",
       "    <tr>\n",
       "      <th>5</th>\n",
       "      <td>1.51742</td>\n",
       "      <td>13.27</td>\n",
       "      <td>3.62</td>\n",
       "      <td>1.24</td>\n",
       "      <td>73.08</td>\n",
       "      <td>0.55</td>\n",
       "      <td>8.07</td>\n",
       "      <td>0.0</td>\n",
       "      <td>0.00</td>\n",
       "      <td>1</td>\n",
       "    </tr>\n",
       "    <tr>\n",
       "      <th>6</th>\n",
       "      <td>1.51596</td>\n",
       "      <td>12.79</td>\n",
       "      <td>3.61</td>\n",
       "      <td>1.62</td>\n",
       "      <td>72.97</td>\n",
       "      <td>0.64</td>\n",
       "      <td>8.07</td>\n",
       "      <td>0.0</td>\n",
       "      <td>0.26</td>\n",
       "      <td>1</td>\n",
       "    </tr>\n",
       "  </tbody>\n",
       "</table>\n",
       "</div>"
      ],
      "text/plain": [
       "         RI     Na    Mg    AI     SI     K    Ca   Ba    Fe  Types of glass\n",
       "id                                                                          \n",
       "2   1.51761  13.89  3.60  1.36  72.73  0.48  7.83  0.0  0.00               1\n",
       "3   1.51618  13.53  3.55  1.54  72.99  0.39  7.78  0.0  0.00               1\n",
       "4   1.51766  13.21  3.69  1.29  72.61  0.57  8.22  0.0  0.00               1\n",
       "5   1.51742  13.27  3.62  1.24  73.08  0.55  8.07  0.0  0.00               1\n",
       "6   1.51596  12.79  3.61  1.62  72.97  0.64  8.07  0.0  0.26               1"
      ]
     },
     "execution_count": 3,
     "metadata": {},
     "output_type": "execute_result"
    }
   ],
   "source": [
    "df.columns = ['id','RI','Na','Mg','AI','SI','K','Ca','Ba','Fe','Types of glass']\n",
    "df.set_index('id',inplace=True)\n",
    "df.head()"
   ]
  },
  {
   "cell_type": "code",
   "execution_count": 4,
   "id": "d5db7ede",
   "metadata": {},
   "outputs": [
    {
     "name": "stdout",
     "output_type": "stream",
     "text": [
      "<class 'pandas.core.frame.DataFrame'>\n",
      "Int64Index: 213 entries, 2 to 214\n",
      "Data columns (total 10 columns):\n",
      " #   Column          Non-Null Count  Dtype  \n",
      "---  ------          --------------  -----  \n",
      " 0   RI              213 non-null    float64\n",
      " 1   Na              213 non-null    float64\n",
      " 2   Mg              213 non-null    float64\n",
      " 3   AI              213 non-null    float64\n",
      " 4   SI              213 non-null    float64\n",
      " 5   K               213 non-null    float64\n",
      " 6   Ca              213 non-null    float64\n",
      " 7   Ba              213 non-null    float64\n",
      " 8   Fe              213 non-null    float64\n",
      " 9   Types of glass  213 non-null    int64  \n",
      "dtypes: float64(9), int64(1)\n",
      "memory usage: 18.3 KB\n"
     ]
    }
   ],
   "source": [
    "df.info()"
   ]
  },
  {
   "cell_type": "markdown",
   "id": "79b5e805",
   "metadata": {},
   "source": [
    "."
   ]
  },
  {
   "cell_type": "markdown",
   "id": "a24af5f1",
   "metadata": {},
   "source": [
    "."
   ]
  },
  {
   "cell_type": "code",
   "execution_count": 5,
   "id": "d36ca5c4",
   "metadata": {},
   "outputs": [
    {
     "data": {
      "text/plain": [
       "6"
      ]
     },
     "execution_count": 5,
     "metadata": {},
     "output_type": "execute_result"
    }
   ],
   "source": [
    "df['Types of glass'].nunique()"
   ]
  },
  {
   "cell_type": "code",
   "execution_count": 6,
   "id": "b233bd05",
   "metadata": {},
   "outputs": [
    {
     "data": {
      "text/plain": [
       "array([1, 2, 3, 5, 6, 7], dtype=int64)"
      ]
     },
     "execution_count": 6,
     "metadata": {},
     "output_type": "execute_result"
    }
   ],
   "source": [
    "df['Types of glass'].unique()"
   ]
  },
  {
   "cell_type": "code",
   "execution_count": 7,
   "id": "38cc5882",
   "metadata": {},
   "outputs": [
    {
     "data": {
      "text/html": [
       "<div>\n",
       "<style scoped>\n",
       "    .dataframe tbody tr th:only-of-type {\n",
       "        vertical-align: middle;\n",
       "    }\n",
       "\n",
       "    .dataframe tbody tr th {\n",
       "        vertical-align: top;\n",
       "    }\n",
       "\n",
       "    .dataframe thead th {\n",
       "        text-align: right;\n",
       "    }\n",
       "</style>\n",
       "<table border=\"1\" class=\"dataframe\">\n",
       "  <thead>\n",
       "    <tr style=\"text-align: right;\">\n",
       "      <th></th>\n",
       "      <th>RI</th>\n",
       "      <th>Na</th>\n",
       "      <th>Mg</th>\n",
       "      <th>AI</th>\n",
       "      <th>SI</th>\n",
       "      <th>K</th>\n",
       "      <th>Ca</th>\n",
       "      <th>Ba</th>\n",
       "      <th>Fe</th>\n",
       "    </tr>\n",
       "    <tr>\n",
       "      <th>Types of glass</th>\n",
       "      <th></th>\n",
       "      <th></th>\n",
       "      <th></th>\n",
       "      <th></th>\n",
       "      <th></th>\n",
       "      <th></th>\n",
       "      <th></th>\n",
       "      <th></th>\n",
       "      <th></th>\n",
       "    </tr>\n",
       "  </thead>\n",
       "  <tbody>\n",
       "    <tr>\n",
       "      <th>1</th>\n",
       "      <td>1.518685</td>\n",
       "      <td>13.236522</td>\n",
       "      <td>3.538841</td>\n",
       "      <td>1.164783</td>\n",
       "      <td>72.631304</td>\n",
       "      <td>0.453043</td>\n",
       "      <td>8.797971</td>\n",
       "      <td>0.012899</td>\n",
       "      <td>0.057826</td>\n",
       "    </tr>\n",
       "    <tr>\n",
       "      <th>2</th>\n",
       "      <td>1.518619</td>\n",
       "      <td>13.111711</td>\n",
       "      <td>3.002105</td>\n",
       "      <td>1.408158</td>\n",
       "      <td>72.598026</td>\n",
       "      <td>0.521053</td>\n",
       "      <td>9.073684</td>\n",
       "      <td>0.050263</td>\n",
       "      <td>0.079737</td>\n",
       "    </tr>\n",
       "    <tr>\n",
       "      <th>3</th>\n",
       "      <td>1.517964</td>\n",
       "      <td>13.437059</td>\n",
       "      <td>3.543529</td>\n",
       "      <td>1.201176</td>\n",
       "      <td>72.404706</td>\n",
       "      <td>0.406471</td>\n",
       "      <td>8.782941</td>\n",
       "      <td>0.008824</td>\n",
       "      <td>0.057059</td>\n",
       "    </tr>\n",
       "    <tr>\n",
       "      <th>5</th>\n",
       "      <td>1.518928</td>\n",
       "      <td>12.827692</td>\n",
       "      <td>0.773846</td>\n",
       "      <td>2.033846</td>\n",
       "      <td>72.366154</td>\n",
       "      <td>1.470000</td>\n",
       "      <td>10.123846</td>\n",
       "      <td>0.187692</td>\n",
       "      <td>0.060769</td>\n",
       "    </tr>\n",
       "    <tr>\n",
       "      <th>6</th>\n",
       "      <td>1.517456</td>\n",
       "      <td>14.646667</td>\n",
       "      <td>1.305556</td>\n",
       "      <td>1.366667</td>\n",
       "      <td>73.206667</td>\n",
       "      <td>0.000000</td>\n",
       "      <td>9.356667</td>\n",
       "      <td>0.000000</td>\n",
       "      <td>0.000000</td>\n",
       "    </tr>\n",
       "    <tr>\n",
       "      <th>7</th>\n",
       "      <td>1.517116</td>\n",
       "      <td>14.442069</td>\n",
       "      <td>0.538276</td>\n",
       "      <td>2.122759</td>\n",
       "      <td>72.965862</td>\n",
       "      <td>0.325172</td>\n",
       "      <td>8.491379</td>\n",
       "      <td>1.040000</td>\n",
       "      <td>0.013448</td>\n",
       "    </tr>\n",
       "  </tbody>\n",
       "</table>\n",
       "</div>"
      ],
      "text/plain": [
       "                      RI         Na        Mg        AI         SI         K  \\\n",
       "Types of glass                                                                 \n",
       "1               1.518685  13.236522  3.538841  1.164783  72.631304  0.453043   \n",
       "2               1.518619  13.111711  3.002105  1.408158  72.598026  0.521053   \n",
       "3               1.517964  13.437059  3.543529  1.201176  72.404706  0.406471   \n",
       "5               1.518928  12.827692  0.773846  2.033846  72.366154  1.470000   \n",
       "6               1.517456  14.646667  1.305556  1.366667  73.206667  0.000000   \n",
       "7               1.517116  14.442069  0.538276  2.122759  72.965862  0.325172   \n",
       "\n",
       "                       Ca        Ba        Fe  \n",
       "Types of glass                                 \n",
       "1                8.797971  0.012899  0.057826  \n",
       "2                9.073684  0.050263  0.079737  \n",
       "3                8.782941  0.008824  0.057059  \n",
       "5               10.123846  0.187692  0.060769  \n",
       "6                9.356667  0.000000  0.000000  \n",
       "7                8.491379  1.040000  0.013448  "
      ]
     },
     "execution_count": 7,
     "metadata": {},
     "output_type": "execute_result"
    }
   ],
   "source": [
    "df.groupby('Types of glass').mean()"
   ]
  },
  {
   "cell_type": "code",
   "execution_count": 8,
   "id": "e175d5af",
   "metadata": {},
   "outputs": [
    {
     "data": {
      "text/plain": [
       "2    76\n",
       "1    69\n",
       "7    29\n",
       "3    17\n",
       "5    13\n",
       "6     9\n",
       "Name: Types of glass, dtype: int64"
      ]
     },
     "execution_count": 8,
     "metadata": {},
     "output_type": "execute_result"
    }
   ],
   "source": [
    "df['Types of glass'].value_counts()"
   ]
  },
  {
   "cell_type": "code",
   "execution_count": 9,
   "id": "d1b496db",
   "metadata": {},
   "outputs": [
    {
     "data": {
      "text/plain": [
       "<Axes: ylabel='Types of glass'>"
      ]
     },
     "execution_count": 9,
     "metadata": {},
     "output_type": "execute_result"
    },
    {
     "data": {
      "image/png": "[encoded data removed]",
      "text/plain": [
       "<Figure size 640x480 with 1 Axes>"
      ]
     },
     "metadata": {},
     "output_type": "display_data"
    }
   ],
   "source": [
    "df['Types of glass'].value_counts().plot.pie(autopct='%.2f%%')"
   ]
  },
  {
   "cell_type": "code",
   "execution_count": 10,
   "id": "f932d41e",
   "metadata": {},
   "outputs": [],
   "source": [
    "Types= pd.DataFrame([['2',76],\n",
    "['1',69],\n",
    "['7',29],\n",
    "['3',17],\n",
    "['5',13],\n",
    "['6',9]])"
   ]
  },
  {
   "cell_type": "code",
   "execution_count": 11,
   "id": "47f94c83",
   "metadata": {},
   "outputs": [
    {
     "data": {
      "image/png": "[encoded data removed]",
      "text/plain": [
       "<Figure size 640x480 with 1 Axes>"
      ]
     },
     "metadata": {},
     "output_type": "display_data"
    }
   ],
   "source": [
    "nums = [76,69,29,17,13,9]\n",
    "Type = [2,1,7,3,5,6]\n",
    "ex = [0.3,0.3,0.0,0.0,0.0,0.0]\n",
    "c = ['r','b','g','y','c','k']\n",
    "\n",
    "plt.pie(nums, labels=Type, explode=ex, colors=c, autopct='%.1f%%')\n",
    "plt.show()"
   ]
  },
  {
   "cell_type": "raw",
   "id": "8c0c6bc3",
   "metadata": {},
   "source": [
    "'''\n",
    "•\t1- building_windows_float_processed\n",
    "•\t2- building_windows_non_float_processed\n",
    "•\t3- vehicle_windows_float_processed\n",
    "•\t4- vehicle_windows_non_float_processed (none in this database)\n",
    "•\t5- containers\n",
    "•\t6- tableware\n",
    "•\t7- headlamps\n",
    "'''"
   ]
  },
  {
   "cell_type": "code",
   "execution_count": 12,
   "id": "5bb29783",
   "metadata": {},
   "outputs": [
    {
     "data": {
      "text/plain": [
       "68.07511737089203"
      ]
     },
     "execution_count": 12,
     "metadata": {},
     "output_type": "execute_result"
    }
   ],
   "source": [
    "145/213*100"
   ]
  },
  {
   "cell_type": "markdown",
   "id": "aaec88f0",
   "metadata": {},
   "source": [
    "# This is unbalanced data . \n",
    "# Type 1 and Type 2 contains almost 70% of the data."
   ]
  },
  {
   "cell_type": "code",
   "execution_count": 13,
   "id": "56a932e6",
   "metadata": {},
   "outputs": [],
   "source": [
    "x = df.iloc[:,:-1]\n",
    "y = df.iloc[:,-1:]"
   ]
  },
  {
   "cell_type": "code",
   "execution_count": 14,
   "id": "39b663b9",
   "metadata": {},
   "outputs": [],
   "source": [
    "from imblearn import under_sampling,over_sampling\n",
    "from imblearn.over_sampling import RandomOverSampler\n",
    "from collections import Counter"
   ]
  },
  {
   "cell_type": "code",
   "execution_count": 15,
   "id": "e752f62b",
   "metadata": {},
   "outputs": [
    {
     "name": "stdout",
     "output_type": "stream",
     "text": [
      "[('Types of glass', 1)] (456, 1)\n"
     ]
    }
   ],
   "source": [
    "ros = RandomOverSampler(random_state = 0)\n",
    "x_re ,y_re = ros.fit_resample(x,y)\n",
    "print(sorted(Counter(y_re).items()),y_re.shape)"
   ]
  },
  {
   "cell_type": "code",
   "execution_count": 16,
   "id": "dc7c01b6",
   "metadata": {},
   "outputs": [
    {
     "data": {
      "text/plain": [
       "Types of glass\n",
       "1                 76\n",
       "2                 76\n",
       "3                 76\n",
       "5                 76\n",
       "6                 76\n",
       "7                 76\n",
       "dtype: int64"
      ]
     },
     "execution_count": 16,
     "metadata": {},
     "output_type": "execute_result"
    }
   ],
   "source": [
    "y_re.value_counts()"
   ]
  },
  {
   "cell_type": "code",
   "execution_count": 17,
   "id": "0362edfc",
   "metadata": {},
   "outputs": [],
   "source": [
    "x=x_re\n",
    "y=y_re"
   ]
  },
  {
   "cell_type": "markdown",
   "id": "6d4e5010",
   "metadata": {},
   "source": [
    "."
   ]
  },
  {
   "cell_type": "markdown",
   "id": "c66d5eaf",
   "metadata": {},
   "source": [
    "."
   ]
  },
  {
   "cell_type": "code",
   "execution_count": 18,
   "id": "e25eeaa9",
   "metadata": {},
   "outputs": [
    {
     "data": {
      "text/html": [
       "<div>\n",
       "<style scoped>\n",
       "    .dataframe tbody tr th:only-of-type {\n",
       "        vertical-align: middle;\n",
       "    }\n",
       "\n",
       "    .dataframe tbody tr th {\n",
       "        vertical-align: top;\n",
       "    }\n",
       "\n",
       "    .dataframe thead th {\n",
       "        text-align: right;\n",
       "    }\n",
       "</style>\n",
       "<table border=\"1\" class=\"dataframe\">\n",
       "  <thead>\n",
       "    <tr style=\"text-align: right;\">\n",
       "      <th></th>\n",
       "      <th>RI</th>\n",
       "      <th>Na</th>\n",
       "      <th>Mg</th>\n",
       "      <th>AI</th>\n",
       "      <th>SI</th>\n",
       "      <th>K</th>\n",
       "      <th>Ca</th>\n",
       "      <th>Ba</th>\n",
       "      <th>Fe</th>\n",
       "      <th>Types of glass</th>\n",
       "    </tr>\n",
       "  </thead>\n",
       "  <tbody>\n",
       "    <tr>\n",
       "      <th>count</th>\n",
       "      <td>213.000000</td>\n",
       "      <td>213.000000</td>\n",
       "      <td>213.000000</td>\n",
       "      <td>213.000000</td>\n",
       "      <td>213.000000</td>\n",
       "      <td>213.000000</td>\n",
       "      <td>213.000000</td>\n",
       "      <td>213.000000</td>\n",
       "      <td>213.000000</td>\n",
       "      <td>213.000000</td>\n",
       "    </tr>\n",
       "    <tr>\n",
       "      <th>mean</th>\n",
       "      <td>1.518353</td>\n",
       "      <td>13.406761</td>\n",
       "      <td>2.676056</td>\n",
       "      <td>1.446526</td>\n",
       "      <td>72.655023</td>\n",
       "      <td>0.499108</td>\n",
       "      <td>8.957934</td>\n",
       "      <td>0.175869</td>\n",
       "      <td>0.057277</td>\n",
       "      <td>2.788732</td>\n",
       "    </tr>\n",
       "    <tr>\n",
       "      <th>std</th>\n",
       "      <td>0.003039</td>\n",
       "      <td>0.818371</td>\n",
       "      <td>1.440453</td>\n",
       "      <td>0.499882</td>\n",
       "      <td>0.774052</td>\n",
       "      <td>0.653035</td>\n",
       "      <td>1.426435</td>\n",
       "      <td>0.498245</td>\n",
       "      <td>0.097589</td>\n",
       "      <td>2.105130</td>\n",
       "    </tr>\n",
       "    <tr>\n",
       "      <th>min</th>\n",
       "      <td>1.511150</td>\n",
       "      <td>10.730000</td>\n",
       "      <td>0.000000</td>\n",
       "      <td>0.290000</td>\n",
       "      <td>69.810000</td>\n",
       "      <td>0.000000</td>\n",
       "      <td>5.430000</td>\n",
       "      <td>0.000000</td>\n",
       "      <td>0.000000</td>\n",
       "      <td>1.000000</td>\n",
       "    </tr>\n",
       "    <tr>\n",
       "      <th>25%</th>\n",
       "      <td>1.516520</td>\n",
       "      <td>12.900000</td>\n",
       "      <td>2.090000</td>\n",
       "      <td>1.190000</td>\n",
       "      <td>72.280000</td>\n",
       "      <td>0.130000</td>\n",
       "      <td>8.240000</td>\n",
       "      <td>0.000000</td>\n",
       "      <td>0.000000</td>\n",
       "      <td>1.000000</td>\n",
       "    </tr>\n",
       "    <tr>\n",
       "      <th>50%</th>\n",
       "      <td>1.517680</td>\n",
       "      <td>13.300000</td>\n",
       "      <td>3.480000</td>\n",
       "      <td>1.360000</td>\n",
       "      <td>72.790000</td>\n",
       "      <td>0.560000</td>\n",
       "      <td>8.600000</td>\n",
       "      <td>0.000000</td>\n",
       "      <td>0.000000</td>\n",
       "      <td>2.000000</td>\n",
       "    </tr>\n",
       "    <tr>\n",
       "      <th>75%</th>\n",
       "      <td>1.519150</td>\n",
       "      <td>13.830000</td>\n",
       "      <td>3.600000</td>\n",
       "      <td>1.630000</td>\n",
       "      <td>73.090000</td>\n",
       "      <td>0.610000</td>\n",
       "      <td>9.180000</td>\n",
       "      <td>0.000000</td>\n",
       "      <td>0.100000</td>\n",
       "      <td>3.000000</td>\n",
       "    </tr>\n",
       "    <tr>\n",
       "      <th>max</th>\n",
       "      <td>1.533930</td>\n",
       "      <td>17.380000</td>\n",
       "      <td>3.980000</td>\n",
       "      <td>3.500000</td>\n",
       "      <td>75.410000</td>\n",
       "      <td>6.210000</td>\n",
       "      <td>16.190000</td>\n",
       "      <td>3.150000</td>\n",
       "      <td>0.510000</td>\n",
       "      <td>7.000000</td>\n",
       "    </tr>\n",
       "  </tbody>\n",
       "</table>\n",
       "</div>"
      ],
      "text/plain": [
       "               RI          Na          Mg          AI          SI           K  \\\n",
       "count  213.000000  213.000000  213.000000  213.000000  213.000000  213.000000   \n",
       "mean     1.518353   13.406761    2.676056    1.446526   72.655023    0.499108   \n",
       "std      0.003039    0.818371    1.440453    0.499882    0.774052    0.653035   \n",
       "min      1.511150   10.730000    0.000000    0.290000   69.810000    0.000000   \n",
       "25%      1.516520   12.900000    2.090000    1.190000   72.280000    0.130000   \n",
       "50%      1.517680   13.300000    3.480000    1.360000   72.790000    0.560000   \n",
       "75%      1.519150   13.830000    3.600000    1.630000   73.090000    0.610000   \n",
       "max      1.533930   17.380000    3.980000    3.500000   75.410000    6.210000   \n",
       "\n",
       "               Ca          Ba          Fe  Types of glass  \n",
       "count  213.000000  213.000000  213.000000      213.000000  \n",
       "mean     8.957934    0.175869    0.057277        2.788732  \n",
       "std      1.426435    0.498245    0.097589        2.105130  \n",
       "min      5.430000    0.000000    0.000000        1.000000  \n",
       "25%      8.240000    0.000000    0.000000        1.000000  \n",
       "50%      8.600000    0.000000    0.000000        2.000000  \n",
       "75%      9.180000    0.000000    0.100000        3.000000  \n",
       "max     16.190000    3.150000    0.510000        7.000000  "
      ]
     },
     "execution_count": 18,
     "metadata": {},
     "output_type": "execute_result"
    }
   ],
   "source": [
    "df.describe()"
   ]
  },
  {
   "cell_type": "code",
   "execution_count": 19,
   "id": "36c1ae2a",
   "metadata": {},
   "outputs": [],
   "source": [
    "import matplotlib.pyplot as plt"
   ]
  },
  {
   "cell_type": "code",
   "execution_count": 20,
   "id": "0c8a8be7",
   "metadata": {},
   "outputs": [
    {
     "data": {
      "text/plain": [
       "<Axes: >"
      ]
     },
     "execution_count": 20,
     "metadata": {},
     "output_type": "execute_result"
    },
    {
     "data": {
      "image/png": "[encoded data removed]",
      "text/plain": [
       "<Figure size 2000x3000 with 1 Axes>"
      ]
     },
     "metadata": {},
     "output_type": "display_data"
    }
   ],
   "source": [
    "df.plot(kind='box',figsize=(20,30))"
   ]
  },
  {
   "cell_type": "code",
   "execution_count": 21,
   "id": "2ac8524f",
   "metadata": {},
   "outputs": [
    {
     "data": {
      "text/plain": [
       "<Axes: >"
      ]
     },
     "execution_count": 21,
     "metadata": {},
     "output_type": "execute_result"
    },
    {
     "data": {
      "image/png": "[encoded data removed]",
      "text/plain": [
       "<Figure size 640x480 with 1 Axes>"
      ]
     },
     "metadata": {},
     "output_type": "display_data"
    }
   ],
   "source": [
    "df['Ba'].plot(kind=\"box\")"
   ]
  },
  {
   "cell_type": "code",
   "execution_count": 22,
   "id": "c10d96b9",
   "metadata": {},
   "outputs": [
    {
     "data": {
      "text/plain": [
       "<Axes: >"
      ]
     },
     "execution_count": 22,
     "metadata": {},
     "output_type": "execute_result"
    },
    {
     "data": {
      "image/png": "[encoded data removed]",
      "text/plain": [
       "<Figure size 640x480 with 1 Axes>"
      ]
     },
     "metadata": {},
     "output_type": "display_data"
    }
   ],
   "source": [
    "df['Fe'].plot(kind=\"box\")"
   ]
  },
  {
   "cell_type": "code",
   "execution_count": 23,
   "id": "09a4df56",
   "metadata": {},
   "outputs": [
    {
     "data": {
      "text/plain": [
       "<Axes: >"
      ]
     },
     "execution_count": 23,
     "metadata": {},
     "output_type": "execute_result"
    },
    {
     "data": {
      "image/png": "[encoded data removed]",
      "text/plain": [
       "<Figure size 640x480 with 2 Axes>"
      ]
     },
     "metadata": {},
     "output_type": "display_data"
    }
   ],
   "source": [
    "sns.heatmap(df.corr(), fmt='.1g', annot=True)"
   ]
  },
  {
   "cell_type": "markdown",
   "id": "2ea783b5",
   "metadata": {},
   "source": [
    "#  Many outliers are presesnt so now we remove these outliers"
   ]
  },
  {
   "cell_type": "code",
   "execution_count": 24,
   "id": "6f97dd22",
   "metadata": {},
   "outputs": [],
   "source": [
    "def finding_outliers(abc):\n",
    "    q1 = abc.quantile(.25)\n",
    "    q3 = abc.quantile(.75)\n",
    "\n",
    "    iqr = q3-q1\n",
    "    low = q1-1.5*iqr\n",
    "    up = q3+1.5*iqr\n",
    "\n",
    "    print('up =',up)\n",
    "    print('low =',low)"
   ]
  },
  {
   "cell_type": "code",
   "execution_count": 25,
   "id": "e102192b",
   "metadata": {},
   "outputs": [
    {
     "name": "stdout",
     "output_type": "stream",
     "text": [
      "up = RI     1.52375\n",
      "Na    15.87500\n",
      "Mg     8.85000\n",
      "AI     2.65125\n",
      "SI    74.28500\n",
      "K      1.50000\n",
      "Ca    11.72875\n",
      "Ba     0.00000\n",
      "Fe     0.00000\n",
      "dtype: float64\n",
      "low = RI     1.51207\n",
      "Na    11.27500\n",
      "Mg    -5.31000\n",
      "AI     0.36125\n",
      "SI    71.12500\n",
      "K     -0.90000\n",
      "Ca     6.31875\n",
      "Ba     0.00000\n",
      "Fe     0.00000\n",
      "dtype: float64\n"
     ]
    }
   ],
   "source": [
    "finding_outliers(x)"
   ]
  },
  {
   "cell_type": "code",
   "execution_count": 26,
   "id": "54d0f06f",
   "metadata": {},
   "outputs": [],
   "source": [
    "x['RI'] = np.where(x['RI']>1.52, 1.52, np.where(x['RI']<1.51, 1.51, x['RI']))"
   ]
  },
  {
   "cell_type": "code",
   "execution_count": 27,
   "id": "eaf9933b",
   "metadata": {},
   "outputs": [],
   "source": [
    "x['Na'] = np.where(x['Na']>15.87, 15.87, np.where(x['Na']<11.27, 11.27, x['Na']))"
   ]
  },
  {
   "cell_type": "code",
   "execution_count": 28,
   "id": "ecd07848",
   "metadata": {},
   "outputs": [],
   "source": [
    "x['Mg'] = np.where(x['Mg']>8.85, 8.85, np.where(x['Mg']<-5.31, -5.31, x['Mg']))"
   ]
  },
  {
   "cell_type": "code",
   "execution_count": 29,
   "id": "3fc919a7",
   "metadata": {},
   "outputs": [],
   "source": [
    "x['AI'] = np.where(x['AI']>2.65, 2.65, np.where(x['AI']<0.36, 0.36, x['AI']))"
   ]
  },
  {
   "cell_type": "code",
   "execution_count": 30,
   "id": "a8f1e943",
   "metadata": {},
   "outputs": [],
   "source": [
    "x['SI'] = np.where(x['SI']>74.28, 74.28, np.where(x['SI']<71.12, 71.12, x['SI']))"
   ]
  },
  {
   "cell_type": "code",
   "execution_count": 31,
   "id": "a1530b3c",
   "metadata": {},
   "outputs": [],
   "source": [
    "x['K'] = np.where(x['K']>1.50, 1.50, np.where(x['K']<-0.90, -0.90, x['K']))"
   ]
  },
  {
   "cell_type": "code",
   "execution_count": 32,
   "id": "eefb7c13",
   "metadata": {},
   "outputs": [],
   "source": [
    "x['Ca'] = np.where(x['Ca']>11.72, 11.72, np.where(x['Ca']<6.31, 6.31, x['Ca']))"
   ]
  },
  {
   "cell_type": "raw",
   "id": "82fdbca7",
   "metadata": {},
   "source": [
    "x['Ba'] = np.where(x['Ba']>0.00000, 0.00000, np.where(x['Ba']<0.00000, 0.00000, x['Ba']))"
   ]
  },
  {
   "cell_type": "raw",
   "id": "97f97ee5",
   "metadata": {},
   "source": [
    "x['Fe'] = np.where(x['Fe']>0.00000, 0.00000, np.where(x['Fe']<0.00000, 0.00000, x['Fe']))"
   ]
  },
  {
   "cell_type": "markdown",
   "id": "76be3410",
   "metadata": {},
   "source": [
    "."
   ]
  },
  {
   "cell_type": "markdown",
   "id": "81f18df1",
   "metadata": {},
   "source": [
    "."
   ]
  },
  {
   "cell_type": "code",
   "execution_count": 33,
   "id": "d63b9a1c",
   "metadata": {},
   "outputs": [
    {
     "data": {
      "text/plain": [
       "<Axes: >"
      ]
     },
     "execution_count": 33,
     "metadata": {},
     "output_type": "execute_result"
    },
    {
     "data": {
      "image/png": "[encoded data removed]",
      "text/plain": [
       "<Figure size 2000x3000 with 1 Axes>"
      ]
     },
     "metadata": {},
     "output_type": "display_data"
    }
   ],
   "source": [
    "x.plot(kind='box',figsize=(20,30))"
   ]
  },
  {
   "cell_type": "code",
   "execution_count": 34,
   "id": "85f44af2",
   "metadata": {},
   "outputs": [
    {
     "data": {
      "text/plain": [
       "<Axes: >"
      ]
     },
     "execution_count": 34,
     "metadata": {},
     "output_type": "execute_result"
    },
    {
     "data": {
      "image/png": "[encoded data removed]",
      "text/plain": [
       "<Figure size 640x480 with 1 Axes>"
      ]
     },
     "metadata": {},
     "output_type": "display_data"
    }
   ],
   "source": [
    "df['Ba'].plot(kind=\"box\")"
   ]
  },
  {
   "cell_type": "code",
   "execution_count": 35,
   "id": "3227dd84",
   "metadata": {},
   "outputs": [
    {
     "data": {
      "text/plain": [
       "<Axes: >"
      ]
     },
     "execution_count": 35,
     "metadata": {},
     "output_type": "execute_result"
    },
    {
     "data": {
      "image/png": "[encoded data removed]",
      "text/plain": [
       "<Figure size 640x480 with 1 Axes>"
      ]
     },
     "metadata": {},
     "output_type": "display_data"
    }
   ],
   "source": [
    "df['Fe'].plot(kind=\"box\")"
   ]
  },
  {
   "cell_type": "code",
   "execution_count": 36,
   "id": "ae3a78d1",
   "metadata": {},
   "outputs": [
    {
     "data": {
      "text/plain": [
       "RI   -1.122727\n",
       "Na    0.080314\n",
       "Mg   -0.467814\n",
       "AI    0.103304\n",
       "SI   -0.144293\n",
       "K     1.055991\n",
       "Ca    0.293619\n",
       "Ba    2.636811\n",
       "Fe    2.792998\n",
       "dtype: float64"
      ]
     },
     "execution_count": 36,
     "metadata": {},
     "output_type": "execute_result"
    }
   ],
   "source": [
    "x.skew()"
   ]
  },
  {
   "cell_type": "markdown",
   "id": "a058177d",
   "metadata": {},
   "source": [
    "# There are alot of outliers and skewness present in 'Ba' and we can't remove it and Ba is highly related to the 'Types of glass' so we should not delete it\n"
   ]
  },
  {
   "cell_type": "raw",
   "id": "862b16ca",
   "metadata": {},
   "source": [
    "del x['Ba']"
   ]
  },
  {
   "cell_type": "raw",
   "id": "ea9d8cd3",
   "metadata": {},
   "source": [
    "del x['Fe']"
   ]
  },
  {
   "cell_type": "markdown",
   "id": "ad512816",
   "metadata": {},
   "source": [
    "."
   ]
  },
  {
   "cell_type": "markdown",
   "id": "5f28ff72",
   "metadata": {},
   "source": [
    "."
   ]
  },
  {
   "cell_type": "markdown",
   "id": "cca114db",
   "metadata": {},
   "source": [
    "."
   ]
  },
  {
   "cell_type": "code",
   "execution_count": 37,
   "id": "5f4529f9",
   "metadata": {},
   "outputs": [
    {
     "data": {
      "text/plain": [
       "<Axes: xlabel='Mg', ylabel='Types of glass'>"
      ]
     },
     "execution_count": 37,
     "metadata": {},
     "output_type": "execute_result"
    },
    {
     "data": {
      "image/png": "[encoded data removed]",
      "text/plain": [
       "<Figure size 640x480 with 1 Axes>"
      ]
     },
     "metadata": {},
     "output_type": "display_data"
    }
   ],
   "source": [
    "sns.scatterplot(x='Mg',y='Types of glass',data=df)"
   ]
  },
  {
   "cell_type": "code",
   "execution_count": 38,
   "id": "60469489",
   "metadata": {},
   "outputs": [
    {
     "data": {
      "text/plain": [
       "<Axes: xlabel='AI', ylabel='Types of glass'>"
      ]
     },
     "execution_count": 38,
     "metadata": {},
     "output_type": "execute_result"
    },
    {
     "data": {
      "image/png": "[encoded data removed]",
      "text/plain": [
       "<Figure size 640x480 with 1 Axes>"
      ]
     },
     "metadata": {},
     "output_type": "display_data"
    }
   ],
   "source": [
    "sns.scatterplot(x='AI',y='Types of glass',data=df)"
   ]
  },
  {
   "cell_type": "markdown",
   "id": "441f5bcd",
   "metadata": {},
   "source": [
    "."
   ]
  },
  {
   "cell_type": "markdown",
   "id": "ca6eb21a",
   "metadata": {},
   "source": [
    "."
   ]
  },
  {
   "cell_type": "markdown",
   "id": "43260646",
   "metadata": {},
   "source": [
    "."
   ]
  },
  {
   "cell_type": "code",
   "execution_count": 39,
   "id": "56128df2",
   "metadata": {},
   "outputs": [],
   "source": [
    "from sklearn.model_selection import train_test_split\n",
    "x_train,x_test,y_train,y_test = train_test_split(x,y, test_size=0.3, random_state=42)"
   ]
  },
  {
   "cell_type": "code",
   "execution_count": 40,
   "id": "db3d4de6",
   "metadata": {},
   "outputs": [],
   "source": [
    "from sklearn.preprocessing import StandardScaler"
   ]
  },
  {
   "cell_type": "code",
   "execution_count": 41,
   "id": "c1b17bec",
   "metadata": {},
   "outputs": [],
   "source": [
    "scaler = StandardScaler()\n",
    "scaler.fit(x_train)\n",
    "\n",
    "x_train_sca = scaler.transform(x_train)\n",
    "x_test_sca = scaler.transform(x_test)"
   ]
  },
  {
   "cell_type": "code",
   "execution_count": 42,
   "id": "d46df53f",
   "metadata": {},
   "outputs": [],
   "source": [
    "x_train_sca= pd.DataFrame(x_train_sca, columns=x_train.columns)\n",
    "x_test_sca= pd.DataFrame(x_test_sca, columns=x_test.columns)"
   ]
  },
  {
   "cell_type": "code",
   "execution_count": 43,
   "id": "7403106e",
   "metadata": {},
   "outputs": [
    {
     "data": {
      "text/html": [
       "<div>\n",
       "<style scoped>\n",
       "    .dataframe tbody tr th:only-of-type {\n",
       "        vertical-align: middle;\n",
       "    }\n",
       "\n",
       "    .dataframe tbody tr th {\n",
       "        vertical-align: top;\n",
       "    }\n",
       "\n",
       "    .dataframe thead th {\n",
       "        text-align: right;\n",
       "    }\n",
       "</style>\n",
       "<table border=\"1\" class=\"dataframe\">\n",
       "  <thead>\n",
       "    <tr style=\"text-align: right;\">\n",
       "      <th></th>\n",
       "      <th>RI</th>\n",
       "      <th>Na</th>\n",
       "      <th>Mg</th>\n",
       "      <th>AI</th>\n",
       "      <th>SI</th>\n",
       "      <th>K</th>\n",
       "      <th>Ca</th>\n",
       "      <th>Ba</th>\n",
       "      <th>Fe</th>\n",
       "    </tr>\n",
       "  </thead>\n",
       "  <tbody>\n",
       "    <tr>\n",
       "      <th>count</th>\n",
       "      <td>319.000000</td>\n",
       "      <td>319.000000</td>\n",
       "      <td>319.000000</td>\n",
       "      <td>319.000000</td>\n",
       "      <td>319.000000</td>\n",
       "      <td>319.000000</td>\n",
       "      <td>319.000000</td>\n",
       "      <td>319.000000</td>\n",
       "      <td>319.000000</td>\n",
       "    </tr>\n",
       "    <tr>\n",
       "      <th>mean</th>\n",
       "      <td>1.517616</td>\n",
       "      <td>13.570157</td>\n",
       "      <td>2.142759</td>\n",
       "      <td>1.483417</td>\n",
       "      <td>72.710313</td>\n",
       "      <td>0.396834</td>\n",
       "      <td>9.073918</td>\n",
       "      <td>0.205893</td>\n",
       "      <td>0.043135</td>\n",
       "    </tr>\n",
       "    <tr>\n",
       "      <th>std</th>\n",
       "      <td>0.002276</td>\n",
       "      <td>0.971002</td>\n",
       "      <td>1.519959</td>\n",
       "      <td>0.562527</td>\n",
       "      <td>0.771225</td>\n",
       "      <td>0.387050</td>\n",
       "      <td>1.351378</td>\n",
       "      <td>0.542237</td>\n",
       "      <td>0.099806</td>\n",
       "    </tr>\n",
       "    <tr>\n",
       "      <th>min</th>\n",
       "      <td>1.511150</td>\n",
       "      <td>11.270000</td>\n",
       "      <td>0.000000</td>\n",
       "      <td>0.360000</td>\n",
       "      <td>71.120000</td>\n",
       "      <td>0.000000</td>\n",
       "      <td>6.310000</td>\n",
       "      <td>0.000000</td>\n",
       "      <td>0.000000</td>\n",
       "    </tr>\n",
       "    <tr>\n",
       "      <th>25%</th>\n",
       "      <td>1.516460</td>\n",
       "      <td>13.000000</td>\n",
       "      <td>0.000000</td>\n",
       "      <td>1.215000</td>\n",
       "      <td>72.250000</td>\n",
       "      <td>0.000000</td>\n",
       "      <td>8.380000</td>\n",
       "      <td>0.000000</td>\n",
       "      <td>0.000000</td>\n",
       "    </tr>\n",
       "    <tr>\n",
       "      <th>50%</th>\n",
       "      <td>1.517790</td>\n",
       "      <td>13.440000</td>\n",
       "      <td>2.680000</td>\n",
       "      <td>1.520000</td>\n",
       "      <td>72.740000</td>\n",
       "      <td>0.470000</td>\n",
       "      <td>8.890000</td>\n",
       "      <td>0.000000</td>\n",
       "      <td>0.000000</td>\n",
       "    </tr>\n",
       "    <tr>\n",
       "      <th>75%</th>\n",
       "      <td>1.519690</td>\n",
       "      <td>14.150000</td>\n",
       "      <td>3.530000</td>\n",
       "      <td>1.760000</td>\n",
       "      <td>73.105000</td>\n",
       "      <td>0.590000</td>\n",
       "      <td>9.700000</td>\n",
       "      <td>0.000000</td>\n",
       "      <td>0.000000</td>\n",
       "    </tr>\n",
       "    <tr>\n",
       "      <th>max</th>\n",
       "      <td>1.520000</td>\n",
       "      <td>15.870000</td>\n",
       "      <td>3.900000</td>\n",
       "      <td>2.650000</td>\n",
       "      <td>74.280000</td>\n",
       "      <td>1.500000</td>\n",
       "      <td>11.720000</td>\n",
       "      <td>3.150000</td>\n",
       "      <td>0.510000</td>\n",
       "    </tr>\n",
       "  </tbody>\n",
       "</table>\n",
       "</div>"
      ],
      "text/plain": [
       "               RI          Na          Mg          AI          SI           K  \\\n",
       "count  319.000000  319.000000  319.000000  319.000000  319.000000  319.000000   \n",
       "mean     1.517616   13.570157    2.142759    1.483417   72.710313    0.396834   \n",
       "std      0.002276    0.971002    1.519959    0.562527    0.771225    0.387050   \n",
       "min      1.511150   11.270000    0.000000    0.360000   71.120000    0.000000   \n",
       "25%      1.516460   13.000000    0.000000    1.215000   72.250000    0.000000   \n",
       "50%      1.517790   13.440000    2.680000    1.520000   72.740000    0.470000   \n",
       "75%      1.519690   14.150000    3.530000    1.760000   73.105000    0.590000   \n",
       "max      1.520000   15.870000    3.900000    2.650000   74.280000    1.500000   \n",
       "\n",
       "               Ca          Ba          Fe  \n",
       "count  319.000000  319.000000  319.000000  \n",
       "mean     9.073918    0.205893    0.043135  \n",
       "std      1.351378    0.542237    0.099806  \n",
       "min      6.310000    0.000000    0.000000  \n",
       "25%      8.380000    0.000000    0.000000  \n",
       "50%      8.890000    0.000000    0.000000  \n",
       "75%      9.700000    0.000000    0.000000  \n",
       "max     11.720000    3.150000    0.510000  "
      ]
     },
     "execution_count": 43,
     "metadata": {},
     "output_type": "execute_result"
    }
   ],
   "source": [
    "x_train.describe()"
   ]
  },
  {
   "cell_type": "code",
   "execution_count": 44,
   "id": "3a77e4b2",
   "metadata": {},
   "outputs": [
    {
     "data": {
      "text/html": [
       "<div>\n",
       "<style scoped>\n",
       "    .dataframe tbody tr th:only-of-type {\n",
       "        vertical-align: middle;\n",
       "    }\n",
       "\n",
       "    .dataframe tbody tr th {\n",
       "        vertical-align: top;\n",
       "    }\n",
       "\n",
       "    .dataframe thead th {\n",
       "        text-align: right;\n",
       "    }\n",
       "</style>\n",
       "<table border=\"1\" class=\"dataframe\">\n",
       "  <thead>\n",
       "    <tr style=\"text-align: right;\">\n",
       "      <th></th>\n",
       "      <th>RI</th>\n",
       "      <th>Na</th>\n",
       "      <th>Mg</th>\n",
       "      <th>AI</th>\n",
       "      <th>SI</th>\n",
       "      <th>K</th>\n",
       "      <th>Ca</th>\n",
       "      <th>Ba</th>\n",
       "      <th>Fe</th>\n",
       "    </tr>\n",
       "  </thead>\n",
       "  <tbody>\n",
       "    <tr>\n",
       "      <th>count</th>\n",
       "      <td>3.190000e+02</td>\n",
       "      <td>3.190000e+02</td>\n",
       "      <td>3.190000e+02</td>\n",
       "      <td>3.190000e+02</td>\n",
       "      <td>3.190000e+02</td>\n",
       "      <td>3.190000e+02</td>\n",
       "      <td>3.190000e+02</td>\n",
       "      <td>3.190000e+02</td>\n",
       "      <td>3.190000e+02</td>\n",
       "    </tr>\n",
       "    <tr>\n",
       "      <th>mean</th>\n",
       "      <td>-4.346784e-14</td>\n",
       "      <td>2.015803e-15</td>\n",
       "      <td>1.642712e-16</td>\n",
       "      <td>4.176388e-17</td>\n",
       "      <td>5.298444e-15</td>\n",
       "      <td>-1.948981e-17</td>\n",
       "      <td>1.976823e-16</td>\n",
       "      <td>2.227407e-17</td>\n",
       "      <td>1.002333e-16</td>\n",
       "    </tr>\n",
       "    <tr>\n",
       "      <th>std</th>\n",
       "      <td>1.001571e+00</td>\n",
       "      <td>1.001571e+00</td>\n",
       "      <td>1.001571e+00</td>\n",
       "      <td>1.001571e+00</td>\n",
       "      <td>1.001571e+00</td>\n",
       "      <td>1.001571e+00</td>\n",
       "      <td>1.001571e+00</td>\n",
       "      <td>1.001571e+00</td>\n",
       "      <td>1.001571e+00</td>\n",
       "    </tr>\n",
       "    <tr>\n",
       "      <th>min</th>\n",
       "      <td>-2.845791e+00</td>\n",
       "      <td>-2.372570e+00</td>\n",
       "      <td>-1.411962e+00</td>\n",
       "      <td>-2.000228e+00</td>\n",
       "      <td>-2.065302e+00</td>\n",
       "      <td>-1.026888e+00</td>\n",
       "      <td>-2.048473e+00</td>\n",
       "      <td>-3.803076e-01</td>\n",
       "      <td>-4.328660e-01</td>\n",
       "    </tr>\n",
       "    <tr>\n",
       "      <th>25%</th>\n",
       "      <td>-5.087470e-01</td>\n",
       "      <td>-5.881064e-01</td>\n",
       "      <td>-1.411962e+00</td>\n",
       "      <td>-4.779126e-01</td>\n",
       "      <td>-5.977982e-01</td>\n",
       "      <td>-1.026888e+00</td>\n",
       "      <td>-5.142963e-01</td>\n",
       "      <td>-3.803076e-01</td>\n",
       "      <td>-4.328660e-01</td>\n",
       "    </tr>\n",
       "    <tr>\n",
       "      <th>50%</th>\n",
       "      <td>7.661421e-02</td>\n",
       "      <td>-1.342543e-01</td>\n",
       "      <td>3.540130e-01</td>\n",
       "      <td>6.513565e-02</td>\n",
       "      <td>3.855318e-02</td>\n",
       "      <td>1.893323e-01</td>\n",
       "      <td>-1.363108e-01</td>\n",
       "      <td>-3.803076e-01</td>\n",
       "      <td>-4.328660e-01</td>\n",
       "    </tr>\n",
       "    <tr>\n",
       "      <th>75%</th>\n",
       "      <td>9.128445e-01</td>\n",
       "      <td>5.980979e-01</td>\n",
       "      <td>9.141171e-01</td>\n",
       "      <td>4.924523e-01</td>\n",
       "      <td>5.125700e-01</td>\n",
       "      <td>4.998567e-01</td>\n",
       "      <td>4.640190e-01</td>\n",
       "      <td>-3.803076e-01</td>\n",
       "      <td>-4.328660e-01</td>\n",
       "    </tr>\n",
       "    <tr>\n",
       "      <th>max</th>\n",
       "      <td>1.049282e+00</td>\n",
       "      <td>2.372247e+00</td>\n",
       "      <td>1.157927e+00</td>\n",
       "      <td>2.077085e+00</td>\n",
       "      <td>2.038515e+00</td>\n",
       "      <td>2.854667e+00</td>\n",
       "      <td>1.961138e+00</td>\n",
       "      <td>5.438086e+00</td>\n",
       "      <td>4.685082e+00</td>\n",
       "    </tr>\n",
       "  </tbody>\n",
       "</table>\n",
       "</div>"
      ],
      "text/plain": [
       "                 RI            Na            Mg            AI            SI  \\\n",
       "count  3.190000e+02  3.190000e+02  3.190000e+02  3.190000e+02  3.190000e+02   \n",
       "mean  -4.346784e-14  2.015803e-15  1.642712e-16  4.176388e-17  5.298444e-15   \n",
       "std    1.001571e+00  1.001571e+00  1.001571e+00  1.001571e+00  1.001571e+00   \n",
       "min   -2.845791e+00 -2.372570e+00 -1.411962e+00 -2.000228e+00 -2.065302e+00   \n",
       "25%   -5.087470e-01 -5.881064e-01 -1.411962e+00 -4.779126e-01 -5.977982e-01   \n",
       "50%    7.661421e-02 -1.342543e-01  3.540130e-01  6.513565e-02  3.855318e-02   \n",
       "75%    9.128445e-01  5.980979e-01  9.141171e-01  4.924523e-01  5.125700e-01   \n",
       "max    1.049282e+00  2.372247e+00  1.157927e+00  2.077085e+00  2.038515e+00   \n",
       "\n",
       "                  K            Ca            Ba            Fe  \n",
       "count  3.190000e+02  3.190000e+02  3.190000e+02  3.190000e+02  \n",
       "mean  -1.948981e-17  1.976823e-16  2.227407e-17  1.002333e-16  \n",
       "std    1.001571e+00  1.001571e+00  1.001571e+00  1.001571e+00  \n",
       "min   -1.026888e+00 -2.048473e+00 -3.803076e-01 -4.328660e-01  \n",
       "25%   -1.026888e+00 -5.142963e-01 -3.803076e-01 -4.328660e-01  \n",
       "50%    1.893323e-01 -1.363108e-01 -3.803076e-01 -4.328660e-01  \n",
       "75%    4.998567e-01  4.640190e-01 -3.803076e-01 -4.328660e-01  \n",
       "max    2.854667e+00  1.961138e+00  5.438086e+00  4.685082e+00  "
      ]
     },
     "execution_count": 44,
     "metadata": {},
     "output_type": "execute_result"
    }
   ],
   "source": [
    "x_train_sca.describe()"
   ]
  },
  {
   "cell_type": "code",
   "execution_count": 45,
   "id": "c9885767",
   "metadata": {},
   "outputs": [
    {
     "data": {
      "text/html": [
       "<div>\n",
       "<style scoped>\n",
       "    .dataframe tbody tr th:only-of-type {\n",
       "        vertical-align: middle;\n",
       "    }\n",
       "\n",
       "    .dataframe tbody tr th {\n",
       "        vertical-align: top;\n",
       "    }\n",
       "\n",
       "    .dataframe thead th {\n",
       "        text-align: right;\n",
       "    }\n",
       "</style>\n",
       "<table border=\"1\" class=\"dataframe\">\n",
       "  <thead>\n",
       "    <tr style=\"text-align: right;\">\n",
       "      <th></th>\n",
       "      <th>RI</th>\n",
       "      <th>Na</th>\n",
       "      <th>Mg</th>\n",
       "      <th>AI</th>\n",
       "      <th>SI</th>\n",
       "      <th>K</th>\n",
       "      <th>Ca</th>\n",
       "      <th>Ba</th>\n",
       "      <th>Fe</th>\n",
       "    </tr>\n",
       "  </thead>\n",
       "  <tbody>\n",
       "    <tr>\n",
       "      <th>0</th>\n",
       "      <td>0.248261</td>\n",
       "      <td>0.154561</td>\n",
       "      <td>-1.411962</td>\n",
       "      <td>-1.644131</td>\n",
       "      <td>2.038515</td>\n",
       "      <td>-1.026888</td>\n",
       "      <td>1.420100</td>\n",
       "      <td>-0.380308</td>\n",
       "      <td>-0.432866</td>\n",
       "    </tr>\n",
       "    <tr>\n",
       "      <th>1</th>\n",
       "      <td>0.758802</td>\n",
       "      <td>0.072042</td>\n",
       "      <td>0.920707</td>\n",
       "      <td>-1.305839</td>\n",
       "      <td>-0.078328</td>\n",
       "      <td>-0.612856</td>\n",
       "      <td>-0.136311</td>\n",
       "      <td>-0.103241</td>\n",
       "      <td>1.975580</td>\n",
       "    </tr>\n",
       "    <tr>\n",
       "      <th>2</th>\n",
       "      <td>-0.609975</td>\n",
       "      <td>0.649672</td>\n",
       "      <td>-1.411962</td>\n",
       "      <td>2.077085</td>\n",
       "      <td>0.973600</td>\n",
       "      <td>-0.923380</td>\n",
       "      <td>-0.025139</td>\n",
       "      <td>0.358536</td>\n",
       "      <td>0.470301</td>\n",
       "    </tr>\n",
       "    <tr>\n",
       "      <th>3</th>\n",
       "      <td>-0.482340</td>\n",
       "      <td>-0.010476</td>\n",
       "      <td>0.940475</td>\n",
       "      <td>-0.023889</td>\n",
       "      <td>-0.338063</td>\n",
       "      <td>0.629242</td>\n",
       "      <td>-0.825578</td>\n",
       "      <td>-0.380308</td>\n",
       "      <td>-0.432866</td>\n",
       "    </tr>\n",
       "    <tr>\n",
       "      <th>4</th>\n",
       "      <td>0.371495</td>\n",
       "      <td>-0.165199</td>\n",
       "      <td>1.151338</td>\n",
       "      <td>-0.273157</td>\n",
       "      <td>-0.428970</td>\n",
       "      <td>0.292840</td>\n",
       "      <td>-0.588411</td>\n",
       "      <td>-0.380308</td>\n",
       "      <td>-0.432866</td>\n",
       "    </tr>\n",
       "    <tr>\n",
       "      <th>...</th>\n",
       "      <td>...</td>\n",
       "      <td>...</td>\n",
       "      <td>...</td>\n",
       "      <td>...</td>\n",
       "      <td>...</td>\n",
       "      <td>...</td>\n",
       "      <td>...</td>\n",
       "      <td>...</td>\n",
       "      <td>...</td>\n",
       "    </tr>\n",
       "    <tr>\n",
       "      <th>314</th>\n",
       "      <td>1.049282</td>\n",
       "      <td>-1.310144</td>\n",
       "      <td>-1.411962</td>\n",
       "      <td>-0.860717</td>\n",
       "      <td>-2.065302</td>\n",
       "      <td>-0.716364</td>\n",
       "      <td>1.961138</td>\n",
       "      <td>-0.380308</td>\n",
       "      <td>1.975580</td>\n",
       "    </tr>\n",
       "    <tr>\n",
       "      <th>315</th>\n",
       "      <td>1.049282</td>\n",
       "      <td>0.474320</td>\n",
       "      <td>1.065675</td>\n",
       "      <td>-1.608521</td>\n",
       "      <td>-1.195189</td>\n",
       "      <td>-0.742241</td>\n",
       "      <td>0.426962</td>\n",
       "      <td>-0.380308</td>\n",
       "      <td>-0.432866</td>\n",
       "    </tr>\n",
       "    <tr>\n",
       "      <th>316</th>\n",
       "      <td>0.296675</td>\n",
       "      <td>0.917857</td>\n",
       "      <td>0.064077</td>\n",
       "      <td>0.243184</td>\n",
       "      <td>-0.428970</td>\n",
       "      <td>-1.026888</td>\n",
       "      <td>0.137914</td>\n",
       "      <td>-0.380308</td>\n",
       "      <td>-0.432866</td>\n",
       "    </tr>\n",
       "    <tr>\n",
       "      <th>317</th>\n",
       "      <td>-0.187459</td>\n",
       "      <td>1.216987</td>\n",
       "      <td>-1.411962</td>\n",
       "      <td>0.919769</td>\n",
       "      <td>0.402183</td>\n",
       "      <td>-1.026888</td>\n",
       "      <td>-0.403124</td>\n",
       "      <td>2.556596</td>\n",
       "      <td>0.369949</td>\n",
       "    </tr>\n",
       "    <tr>\n",
       "      <th>318</th>\n",
       "      <td>1.049282</td>\n",
       "      <td>0.237079</td>\n",
       "      <td>0.663718</td>\n",
       "      <td>-1.466082</td>\n",
       "      <td>-2.065302</td>\n",
       "      <td>-0.819872</td>\n",
       "      <td>1.901846</td>\n",
       "      <td>-0.380308</td>\n",
       "      <td>-0.432866</td>\n",
       "    </tr>\n",
       "  </tbody>\n",
       "</table>\n",
       "<p>319 rows × 9 columns</p>\n",
       "</div>"
      ],
      "text/plain": [
       "           RI        Na        Mg        AI        SI         K        Ca  \\\n",
       "0    0.248261  0.154561 -1.411962 -1.644131  2.038515 -1.026888  1.420100   \n",
       "1    0.758802  0.072042  0.920707 -1.305839 -0.078328 -0.612856 -0.136311   \n",
       "2   -0.609975  0.649672 -1.411962  2.077085  0.973600 -0.923380 -0.025139   \n",
       "3   -0.482340 -0.010476  0.940475 -0.023889 -0.338063  0.629242 -0.825578   \n",
       "4    0.371495 -0.165199  1.151338 -0.273157 -0.428970  0.292840 -0.588411   \n",
       "..        ...       ...       ...       ...       ...       ...       ...   \n",
       "314  1.049282 -1.310144 -1.411962 -0.860717 -2.065302 -0.716364  1.961138   \n",
       "315  1.049282  0.474320  1.065675 -1.608521 -1.195189 -0.742241  0.426962   \n",
       "316  0.296675  0.917857  0.064077  0.243184 -0.428970 -1.026888  0.137914   \n",
       "317 -0.187459  1.216987 -1.411962  0.919769  0.402183 -1.026888 -0.403124   \n",
       "318  1.049282  0.237079  0.663718 -1.466082 -2.065302 -0.819872  1.901846   \n",
       "\n",
       "           Ba        Fe  \n",
       "0   -0.380308 -0.432866  \n",
       "1   -0.103241  1.975580  \n",
       "2    0.358536  0.470301  \n",
       "3   -0.380308 -0.432866  \n",
       "4   -0.380308 -0.432866  \n",
       "..        ...       ...  \n",
       "314 -0.380308  1.975580  \n",
       "315 -0.380308 -0.432866  \n",
       "316 -0.380308 -0.432866  \n",
       "317  2.556596  0.369949  \n",
       "318 -0.380308 -0.432866  \n",
       "\n",
       "[319 rows x 9 columns]"
      ]
     },
     "execution_count": 45,
     "metadata": {},
     "output_type": "execute_result"
    }
   ],
   "source": [
    "x_train_sca"
   ]
  },
  {
   "cell_type": "code",
   "execution_count": 46,
   "id": "6967eadc",
   "metadata": {},
   "outputs": [
    {
     "data": {
      "text/html": [
       "<div>\n",
       "<style scoped>\n",
       "    .dataframe tbody tr th:only-of-type {\n",
       "        vertical-align: middle;\n",
       "    }\n",
       "\n",
       "    .dataframe tbody tr th {\n",
       "        vertical-align: top;\n",
       "    }\n",
       "\n",
       "    .dataframe thead th {\n",
       "        text-align: right;\n",
       "    }\n",
       "</style>\n",
       "<table border=\"1\" class=\"dataframe\">\n",
       "  <thead>\n",
       "    <tr style=\"text-align: right;\">\n",
       "      <th></th>\n",
       "      <th>RI</th>\n",
       "      <th>Na</th>\n",
       "      <th>Mg</th>\n",
       "      <th>AI</th>\n",
       "      <th>SI</th>\n",
       "      <th>K</th>\n",
       "      <th>Ca</th>\n",
       "      <th>Ba</th>\n",
       "      <th>Fe</th>\n",
       "    </tr>\n",
       "  </thead>\n",
       "  <tbody>\n",
       "    <tr>\n",
       "      <th>0</th>\n",
       "      <td>-2.035968</td>\n",
       "      <td>0.855968</td>\n",
       "      <td>-0.265396</td>\n",
       "      <td>0.100745</td>\n",
       "      <td>2.038515</td>\n",
       "      <td>-1.026888</td>\n",
       "      <td>-1.099803</td>\n",
       "      <td>-0.380308</td>\n",
       "      <td>-0.432866</td>\n",
       "    </tr>\n",
       "    <tr>\n",
       "      <th>1</th>\n",
       "      <td>0.138231</td>\n",
       "      <td>-0.804718</td>\n",
       "      <td>0.894349</td>\n",
       "      <td>-0.647059</td>\n",
       "      <td>0.415169</td>\n",
       "      <td>0.629242</td>\n",
       "      <td>-0.225249</td>\n",
       "      <td>-0.380308</td>\n",
       "      <td>-0.432866</td>\n",
       "    </tr>\n",
       "    <tr>\n",
       "      <th>2</th>\n",
       "      <td>1.049282</td>\n",
       "      <td>-2.372570</td>\n",
       "      <td>-0.285165</td>\n",
       "      <td>0.136355</td>\n",
       "      <td>0.947627</td>\n",
       "      <td>0.473980</td>\n",
       "      <td>1.887023</td>\n",
       "      <td>-0.380308</td>\n",
       "      <td>-0.432866</td>\n",
       "    </tr>\n",
       "    <tr>\n",
       "      <th>3</th>\n",
       "      <td>-0.838838</td>\n",
       "      <td>-0.876921</td>\n",
       "      <td>0.867991</td>\n",
       "      <td>0.136355</td>\n",
       "      <td>0.635944</td>\n",
       "      <td>0.706873</td>\n",
       "      <td>-0.729229</td>\n",
       "      <td>-0.380308</td>\n",
       "      <td>1.975580</td>\n",
       "    </tr>\n",
       "    <tr>\n",
       "      <th>4</th>\n",
       "      <td>-0.469136</td>\n",
       "      <td>-0.165199</td>\n",
       "      <td>0.821865</td>\n",
       "      <td>-0.362181</td>\n",
       "      <td>-0.091314</td>\n",
       "      <td>0.318717</td>\n",
       "      <td>-0.314186</td>\n",
       "      <td>-0.380308</td>\n",
       "      <td>-0.432866</td>\n",
       "    </tr>\n",
       "    <tr>\n",
       "      <th>...</th>\n",
       "      <td>...</td>\n",
       "      <td>...</td>\n",
       "      <td>...</td>\n",
       "      <td>...</td>\n",
       "      <td>...</td>\n",
       "      <td>...</td>\n",
       "      <td>...</td>\n",
       "      <td>...</td>\n",
       "      <td>...</td>\n",
       "    </tr>\n",
       "    <tr>\n",
       "      <th>132</th>\n",
       "      <td>-0.152249</td>\n",
       "      <td>1.165413</td>\n",
       "      <td>-1.411962</td>\n",
       "      <td>1.525134</td>\n",
       "      <td>0.739838</td>\n",
       "      <td>-1.026888</td>\n",
       "      <td>-0.091842</td>\n",
       "      <td>0.838784</td>\n",
       "      <td>-0.432866</td>\n",
       "    </tr>\n",
       "    <tr>\n",
       "      <th>133</th>\n",
       "      <td>-0.904856</td>\n",
       "      <td>0.309283</td>\n",
       "      <td>-1.411962</td>\n",
       "      <td>1.881231</td>\n",
       "      <td>0.674905</td>\n",
       "      <td>-0.664610</td>\n",
       "      <td>0.249086</td>\n",
       "      <td>1.115851</td>\n",
       "      <td>-0.332514</td>\n",
       "    </tr>\n",
       "    <tr>\n",
       "      <th>134</th>\n",
       "      <td>-0.178656</td>\n",
       "      <td>-0.722199</td>\n",
       "      <td>0.881170</td>\n",
       "      <td>-0.273157</td>\n",
       "      <td>0.428156</td>\n",
       "      <td>0.422226</td>\n",
       "      <td>-0.477239</td>\n",
       "      <td>-0.380308</td>\n",
       "      <td>-0.432866</td>\n",
       "    </tr>\n",
       "    <tr>\n",
       "      <th>135</th>\n",
       "      <td>0.688383</td>\n",
       "      <td>0.484635</td>\n",
       "      <td>0.947064</td>\n",
       "      <td>-0.201937</td>\n",
       "      <td>-0.818573</td>\n",
       "      <td>0.422226</td>\n",
       "      <td>-0.573588</td>\n",
       "      <td>-0.380308</td>\n",
       "      <td>-0.432866</td>\n",
       "    </tr>\n",
       "    <tr>\n",
       "      <th>136</th>\n",
       "      <td>1.049282</td>\n",
       "      <td>1.330450</td>\n",
       "      <td>0.037719</td>\n",
       "      <td>1.026598</td>\n",
       "      <td>-2.065302</td>\n",
       "      <td>0.939766</td>\n",
       "      <td>0.508488</td>\n",
       "      <td>-0.380308</td>\n",
       "      <td>-0.432866</td>\n",
       "    </tr>\n",
       "  </tbody>\n",
       "</table>\n",
       "<p>137 rows × 9 columns</p>\n",
       "</div>"
      ],
      "text/plain": [
       "           RI        Na        Mg        AI        SI         K        Ca  \\\n",
       "0   -2.035968  0.855968 -0.265396  0.100745  2.038515 -1.026888 -1.099803   \n",
       "1    0.138231 -0.804718  0.894349 -0.647059  0.415169  0.629242 -0.225249   \n",
       "2    1.049282 -2.372570 -0.285165  0.136355  0.947627  0.473980  1.887023   \n",
       "3   -0.838838 -0.876921  0.867991  0.136355  0.635944  0.706873 -0.729229   \n",
       "4   -0.469136 -0.165199  0.821865 -0.362181 -0.091314  0.318717 -0.314186   \n",
       "..        ...       ...       ...       ...       ...       ...       ...   \n",
       "132 -0.152249  1.165413 -1.411962  1.525134  0.739838 -1.026888 -0.091842   \n",
       "133 -0.904856  0.309283 -1.411962  1.881231  0.674905 -0.664610  0.249086   \n",
       "134 -0.178656 -0.722199  0.881170 -0.273157  0.428156  0.422226 -0.477239   \n",
       "135  0.688383  0.484635  0.947064 -0.201937 -0.818573  0.422226 -0.573588   \n",
       "136  1.049282  1.330450  0.037719  1.026598 -2.065302  0.939766  0.508488   \n",
       "\n",
       "           Ba        Fe  \n",
       "0   -0.380308 -0.432866  \n",
       "1   -0.380308 -0.432866  \n",
       "2   -0.380308 -0.432866  \n",
       "3   -0.380308  1.975580  \n",
       "4   -0.380308 -0.432866  \n",
       "..        ...       ...  \n",
       "132  0.838784 -0.432866  \n",
       "133  1.115851 -0.332514  \n",
       "134 -0.380308 -0.432866  \n",
       "135 -0.380308 -0.432866  \n",
       "136 -0.380308 -0.432866  \n",
       "\n",
       "[137 rows x 9 columns]"
      ]
     },
     "execution_count": 46,
     "metadata": {},
     "output_type": "execute_result"
    }
   ],
   "source": [
    "x_test_sca"
   ]
  },
  {
   "cell_type": "code",
   "execution_count": 47,
   "id": "127097a6",
   "metadata": {},
   "outputs": [
    {
     "data": {
      "text/plain": [
       "<Axes: >"
      ]
     },
     "execution_count": 47,
     "metadata": {},
     "output_type": "execute_result"
    },
    {
     "data": {
      "image/png": "[encoded data removed]",
      "text/plain": [
       "<Figure size 2000x3000 with 1 Axes>"
      ]
     },
     "metadata": {},
     "output_type": "display_data"
    }
   ],
   "source": [
    "x_train.plot(kind='box',figsize=(20,30))"
   ]
  },
  {
   "cell_type": "code",
   "execution_count": 48,
   "id": "49c2a447",
   "metadata": {
    "scrolled": false
   },
   "outputs": [
    {
     "data": {
      "text/plain": [
       "<Axes: >"
      ]
     },
     "execution_count": 48,
     "metadata": {},
     "output_type": "execute_result"
    },
    {
     "data": {
      "image/png": "[encoded data removed]",
      "text/plain": [
       "<Figure size 2000x3000 with 1 Axes>"
      ]
     },
     "metadata": {},
     "output_type": "display_data"
    }
   ],
   "source": [
    "x_train_sca.plot(kind='box',figsize=(20,30))"
   ]
  },
  {
   "cell_type": "code",
   "execution_count": 49,
   "id": "f6ad2634",
   "metadata": {
    "scrolled": false
   },
   "outputs": [
    {
     "data": {
      "text/html": [
       "<div>\n",
       "<style scoped>\n",
       "    .dataframe tbody tr th:only-of-type {\n",
       "        vertical-align: middle;\n",
       "    }\n",
       "\n",
       "    .dataframe tbody tr th {\n",
       "        vertical-align: top;\n",
       "    }\n",
       "\n",
       "    .dataframe thead th {\n",
       "        text-align: right;\n",
       "    }\n",
       "</style>\n",
       "<table border=\"1\" class=\"dataframe\">\n",
       "  <thead>\n",
       "    <tr style=\"text-align: right;\">\n",
       "      <th></th>\n",
       "      <th>RI</th>\n",
       "      <th>Na</th>\n",
       "      <th>Mg</th>\n",
       "      <th>AI</th>\n",
       "      <th>SI</th>\n",
       "      <th>K</th>\n",
       "      <th>Ca</th>\n",
       "      <th>Ba</th>\n",
       "      <th>Fe</th>\n",
       "    </tr>\n",
       "  </thead>\n",
       "  <tbody>\n",
       "    <tr>\n",
       "      <th>0</th>\n",
       "      <td>1.51761</td>\n",
       "      <td>13.89</td>\n",
       "      <td>3.60</td>\n",
       "      <td>1.36</td>\n",
       "      <td>72.73</td>\n",
       "      <td>0.48</td>\n",
       "      <td>7.83</td>\n",
       "      <td>0.00</td>\n",
       "      <td>0.00</td>\n",
       "    </tr>\n",
       "    <tr>\n",
       "      <th>1</th>\n",
       "      <td>1.51618</td>\n",
       "      <td>13.53</td>\n",
       "      <td>3.55</td>\n",
       "      <td>1.54</td>\n",
       "      <td>72.99</td>\n",
       "      <td>0.39</td>\n",
       "      <td>7.78</td>\n",
       "      <td>0.00</td>\n",
       "      <td>0.00</td>\n",
       "    </tr>\n",
       "    <tr>\n",
       "      <th>2</th>\n",
       "      <td>1.51766</td>\n",
       "      <td>13.21</td>\n",
       "      <td>3.69</td>\n",
       "      <td>1.29</td>\n",
       "      <td>72.61</td>\n",
       "      <td>0.57</td>\n",
       "      <td>8.22</td>\n",
       "      <td>0.00</td>\n",
       "      <td>0.00</td>\n",
       "    </tr>\n",
       "    <tr>\n",
       "      <th>3</th>\n",
       "      <td>1.51742</td>\n",
       "      <td>13.27</td>\n",
       "      <td>3.62</td>\n",
       "      <td>1.24</td>\n",
       "      <td>73.08</td>\n",
       "      <td>0.55</td>\n",
       "      <td>8.07</td>\n",
       "      <td>0.00</td>\n",
       "      <td>0.00</td>\n",
       "    </tr>\n",
       "    <tr>\n",
       "      <th>4</th>\n",
       "      <td>1.51596</td>\n",
       "      <td>12.79</td>\n",
       "      <td>3.61</td>\n",
       "      <td>1.62</td>\n",
       "      <td>72.97</td>\n",
       "      <td>0.64</td>\n",
       "      <td>8.07</td>\n",
       "      <td>0.00</td>\n",
       "      <td>0.26</td>\n",
       "    </tr>\n",
       "    <tr>\n",
       "      <th>...</th>\n",
       "      <td>...</td>\n",
       "      <td>...</td>\n",
       "      <td>...</td>\n",
       "      <td>...</td>\n",
       "      <td>...</td>\n",
       "      <td>...</td>\n",
       "      <td>...</td>\n",
       "      <td>...</td>\n",
       "      <td>...</td>\n",
       "    </tr>\n",
       "    <tr>\n",
       "      <th>451</th>\n",
       "      <td>1.51732</td>\n",
       "      <td>14.95</td>\n",
       "      <td>0.00</td>\n",
       "      <td>1.80</td>\n",
       "      <td>72.99</td>\n",
       "      <td>0.00</td>\n",
       "      <td>8.61</td>\n",
       "      <td>1.55</td>\n",
       "      <td>0.00</td>\n",
       "    </tr>\n",
       "    <tr>\n",
       "      <th>452</th>\n",
       "      <td>1.52000</td>\n",
       "      <td>15.79</td>\n",
       "      <td>1.83</td>\n",
       "      <td>1.31</td>\n",
       "      <td>71.12</td>\n",
       "      <td>0.31</td>\n",
       "      <td>8.61</td>\n",
       "      <td>1.68</td>\n",
       "      <td>0.00</td>\n",
       "    </tr>\n",
       "    <tr>\n",
       "      <th>453</th>\n",
       "      <td>1.51653</td>\n",
       "      <td>11.95</td>\n",
       "      <td>0.00</td>\n",
       "      <td>1.19</td>\n",
       "      <td>74.28</td>\n",
       "      <td>1.50</td>\n",
       "      <td>8.93</td>\n",
       "      <td>0.00</td>\n",
       "      <td>0.00</td>\n",
       "    </tr>\n",
       "    <tr>\n",
       "      <th>454</th>\n",
       "      <td>1.51685</td>\n",
       "      <td>14.92</td>\n",
       "      <td>0.00</td>\n",
       "      <td>1.99</td>\n",
       "      <td>73.06</td>\n",
       "      <td>0.00</td>\n",
       "      <td>8.40</td>\n",
       "      <td>1.59</td>\n",
       "      <td>0.00</td>\n",
       "    </tr>\n",
       "    <tr>\n",
       "      <th>455</th>\n",
       "      <td>1.52000</td>\n",
       "      <td>14.86</td>\n",
       "      <td>2.20</td>\n",
       "      <td>2.06</td>\n",
       "      <td>71.12</td>\n",
       "      <td>0.76</td>\n",
       "      <td>9.76</td>\n",
       "      <td>0.00</td>\n",
       "      <td>0.00</td>\n",
       "    </tr>\n",
       "  </tbody>\n",
       "</table>\n",
       "<p>456 rows × 9 columns</p>\n",
       "</div>"
      ],
      "text/plain": [
       "          RI     Na    Mg    AI     SI     K    Ca    Ba    Fe\n",
       "0    1.51761  13.89  3.60  1.36  72.73  0.48  7.83  0.00  0.00\n",
       "1    1.51618  13.53  3.55  1.54  72.99  0.39  7.78  0.00  0.00\n",
       "2    1.51766  13.21  3.69  1.29  72.61  0.57  8.22  0.00  0.00\n",
       "3    1.51742  13.27  3.62  1.24  73.08  0.55  8.07  0.00  0.00\n",
       "4    1.51596  12.79  3.61  1.62  72.97  0.64  8.07  0.00  0.26\n",
       "..       ...    ...   ...   ...    ...   ...   ...   ...   ...\n",
       "451  1.51732  14.95  0.00  1.80  72.99  0.00  8.61  1.55  0.00\n",
       "452  1.52000  15.79  1.83  1.31  71.12  0.31  8.61  1.68  0.00\n",
       "453  1.51653  11.95  0.00  1.19  74.28  1.50  8.93  0.00  0.00\n",
       "454  1.51685  14.92  0.00  1.99  73.06  0.00  8.40  1.59  0.00\n",
       "455  1.52000  14.86  2.20  2.06  71.12  0.76  9.76  0.00  0.00\n",
       "\n",
       "[456 rows x 9 columns]"
      ]
     },
     "execution_count": 49,
     "metadata": {},
     "output_type": "execute_result"
    }
   ],
   "source": [
    "x"
   ]
  },
  {
   "cell_type": "markdown",
   "id": "866c853e",
   "metadata": {},
   "source": [
    "."
   ]
  },
  {
   "cell_type": "markdown",
   "id": "3c3db03e",
   "metadata": {},
   "source": [
    "#  Now the data is fully cleaned , we will train and test data"
   ]
  },
  {
   "cell_type": "markdown",
   "id": "f6374c99",
   "metadata": {},
   "source": [
    "."
   ]
  },
  {
   "cell_type": "markdown",
   "id": "48dc7d7e",
   "metadata": {},
   "source": [
    "."
   ]
  },
  {
   "cell_type": "code",
   "execution_count": 50,
   "id": "1025862c",
   "metadata": {},
   "outputs": [],
   "source": [
    "from sklearn.ensemble import GradientBoostingClassifier , AdaBoostClassifier , BaggingClassifier , RandomForestClassifier\n",
    "from sklearn.naive_bayes import GaussianNB\n",
    "from sklearn.tree import DecisionTreeClassifier\n",
    "from sklearn.linear_model import LogisticRegression\n",
    "from sklearn.svm import SVC\n",
    "\n",
    "from sklearn.metrics import accuracy_score\n",
    "from sklearn.metrics import classification_report\n",
    "from sklearn.model_selection import cross_val_score\n",
    "\n",
    "import warnings\n",
    "warnings.filterwarnings('ignore')"
   ]
  },
  {
   "cell_type": "markdown",
   "id": "1c827b32",
   "metadata": {},
   "source": [
    "# AdaBoostClassifier"
   ]
  },
  {
   "cell_type": "code",
   "execution_count": 51,
   "id": "8bf8e7c3",
   "metadata": {},
   "outputs": [
    {
     "name": "stdout",
     "output_type": "stream",
     "text": [
      "0.26277372262773724\n",
      "              precision    recall  f1-score   support\n",
      "\n",
      "           1       0.00      0.00      0.00        30\n",
      "           2       0.03      0.04      0.03        25\n",
      "           3       0.20      0.93      0.33        14\n",
      "           5       0.58      0.82      0.68        17\n",
      "           6       0.00      0.00      0.00        23\n",
      "           7       0.62      0.29      0.39        28\n",
      "\n",
      "    accuracy                           0.26       137\n",
      "   macro avg       0.24      0.35      0.24       137\n",
      "weighted avg       0.22      0.26      0.20       137\n",
      "\n"
     ]
    }
   ],
   "source": [
    "abc =AdaBoostClassifier()\n",
    "abc.fit(x_train_sca,y_train)\n",
    "abcy_pred = abc.predict(x_test_sca)\n",
    "\n",
    "print(accuracy_score(y_test,abcy_pred))\n",
    "print(classification_report(y_test,abcy_pred))"
   ]
  },
  {
   "cell_type": "code",
   "execution_count": 52,
   "id": "9fa09c29",
   "metadata": {},
   "outputs": [
    {
     "name": "stdout",
     "output_type": "stream",
     "text": [
      "0.26277372262773724\n",
      "              precision    recall  f1-score   support\n",
      "\n",
      "           1       0.00      0.00      0.00        30\n",
      "           2       0.03      0.04      0.03        25\n",
      "           3       0.20      0.93      0.33        14\n",
      "           5       0.58      0.82      0.68        17\n",
      "           6       0.00      0.00      0.00        23\n",
      "           7       0.62      0.29      0.39        28\n",
      "\n",
      "    accuracy                           0.26       137\n",
      "   macro avg       0.24      0.35      0.24       137\n",
      "weighted avg       0.22      0.26      0.20       137\n",
      "\n"
     ]
    }
   ],
   "source": [
    "abc = AdaBoostClassifier()\n",
    "abc.fit(x_train,y_train)\n",
    "abcy_pred1 = abc.predict(x_test)\n",
    "\n",
    "print(accuracy_score(y_test,abcy_pred1))\n",
    "print(classification_report(y_test,abcy_pred1))"
   ]
  },
  {
   "cell_type": "markdown",
   "id": "13d3fc02",
   "metadata": {},
   "source": [
    "# GradientBoostingClassifier"
   ]
  },
  {
   "cell_type": "code",
   "execution_count": 53,
   "id": "3e15f81b",
   "metadata": {},
   "outputs": [
    {
     "name": "stdout",
     "output_type": "stream",
     "text": [
      "0.9124087591240876\n",
      "              precision    recall  f1-score   support\n",
      "\n",
      "           1       0.88      0.73      0.80        30\n",
      "           2       0.84      0.84      0.84        25\n",
      "           3       0.82      1.00      0.90        14\n",
      "           5       0.94      1.00      0.97        17\n",
      "           6       1.00      1.00      1.00        23\n",
      "           7       0.97      1.00      0.98        28\n",
      "\n",
      "    accuracy                           0.91       137\n",
      "   macro avg       0.91      0.93      0.92       137\n",
      "weighted avg       0.91      0.91      0.91       137\n",
      "\n"
     ]
    }
   ],
   "source": [
    "gbc = GradientBoostingClassifier()\n",
    "gbc.fit(x_train_sca,y_train)\n",
    "gbcy_pred = gbc.predict(x_test_sca)\n",
    "\n",
    "print(accuracy_score(y_test,gbcy_pred))\n",
    "print(classification_report(y_test,gbcy_pred))"
   ]
  },
  {
   "cell_type": "code",
   "execution_count": 54,
   "id": "eca04ca6",
   "metadata": {},
   "outputs": [
    {
     "name": "stdout",
     "output_type": "stream",
     "text": [
      "0.9124087591240876\n",
      "              precision    recall  f1-score   support\n",
      "\n",
      "           1       0.88      0.73      0.80        30\n",
      "           2       0.84      0.84      0.84        25\n",
      "           3       0.82      1.00      0.90        14\n",
      "           5       0.94      1.00      0.97        17\n",
      "           6       1.00      1.00      1.00        23\n",
      "           7       0.97      1.00      0.98        28\n",
      "\n",
      "    accuracy                           0.91       137\n",
      "   macro avg       0.91      0.93      0.92       137\n",
      "weighted avg       0.91      0.91      0.91       137\n",
      "\n"
     ]
    }
   ],
   "source": [
    "gbc = GradientBoostingClassifier()\n",
    "gbc.fit(x_train,y_train)\n",
    "gbcy_pred1 = gbc.predict(x_test)\n",
    "\n",
    "print(accuracy_score(y_test,gbcy_pred))\n",
    "print(classification_report(y_test,gbcy_pred1))"
   ]
  },
  {
   "cell_type": "markdown",
   "id": "68368a66",
   "metadata": {},
   "source": [
    "# GaussianNB"
   ]
  },
  {
   "cell_type": "code",
   "execution_count": 55,
   "id": "bc1e0feb",
   "metadata": {},
   "outputs": [
    {
     "name": "stdout",
     "output_type": "stream",
     "text": [
      "0.6934306569343066\n",
      "              precision    recall  f1-score   support\n",
      "\n",
      "           1       0.68      0.70      0.69        30\n",
      "           2       0.33      0.04      0.07        25\n",
      "           3       0.35      0.86      0.50        14\n",
      "           5       0.73      0.94      0.82        17\n",
      "           6       0.92      1.00      0.96        23\n",
      "           7       1.00      0.79      0.88        28\n",
      "\n",
      "    accuracy                           0.69       137\n",
      "   macro avg       0.67      0.72      0.65       137\n",
      "weighted avg       0.69      0.69      0.66       137\n",
      "\n"
     ]
    }
   ],
   "source": [
    "gs = GaussianNB()\n",
    "gs.fit(x_train_sca,y_train)\n",
    "gsy_pred = gs.predict(x_test_sca)\n",
    "\n",
    "print(accuracy_score(y_test,gsy_pred))\n",
    "print(classification_report(y_test,gsy_pred))"
   ]
  },
  {
   "cell_type": "code",
   "execution_count": 56,
   "id": "038f0929",
   "metadata": {},
   "outputs": [
    {
     "name": "stdout",
     "output_type": "stream",
     "text": [
      "0.6934306569343066\n",
      "              precision    recall  f1-score   support\n",
      "\n",
      "           1       0.68      0.70      0.69        30\n",
      "           2       0.33      0.04      0.07        25\n",
      "           3       0.35      0.86      0.50        14\n",
      "           5       0.73      0.94      0.82        17\n",
      "           6       0.92      1.00      0.96        23\n",
      "           7       1.00      0.79      0.88        28\n",
      "\n",
      "    accuracy                           0.69       137\n",
      "   macro avg       0.67      0.72      0.65       137\n",
      "weighted avg       0.69      0.69      0.66       137\n",
      "\n"
     ]
    }
   ],
   "source": [
    "gs = GaussianNB()\n",
    "gs.fit(x_train,y_train)\n",
    "gsy_pred1= gs.predict(x_test)\n",
    "\n",
    "print(accuracy_score(y_test,gsy_pred1))\n",
    "print(classification_report(y_test,gsy_pred1))"
   ]
  },
  {
   "cell_type": "markdown",
   "id": "650a22d5",
   "metadata": {},
   "source": [
    "# RandomForestClassifier"
   ]
  },
  {
   "cell_type": "code",
   "execution_count": 57,
   "id": "0b66a963",
   "metadata": {},
   "outputs": [
    {
     "name": "stdout",
     "output_type": "stream",
     "text": [
      "0.9124087591240876\n",
      "              precision    recall  f1-score   support\n",
      "\n",
      "           1       0.92      0.73      0.81        30\n",
      "           2       0.75      0.84      0.79        25\n",
      "           3       0.88      1.00      0.93        14\n",
      "           5       0.94      1.00      0.97        17\n",
      "           6       1.00      1.00      1.00        23\n",
      "           7       1.00      1.00      1.00        28\n",
      "\n",
      "    accuracy                           0.91       137\n",
      "   macro avg       0.91      0.93      0.92       137\n",
      "weighted avg       0.92      0.91      0.91       137\n",
      "\n"
     ]
    }
   ],
   "source": [
    "rfc= RandomForestClassifier()\n",
    "rfc.fit(x_train_sca,y_train)\n",
    "rfcy_pred = rfc.predict(x_test_sca)\n",
    "\n",
    "print(accuracy_score(y_test,rfcy_pred))\n",
    "print(classification_report(y_test,rfcy_pred))"
   ]
  },
  {
   "cell_type": "code",
   "execution_count": 58,
   "id": "804bb385",
   "metadata": {},
   "outputs": [
    {
     "name": "stdout",
     "output_type": "stream",
     "text": [
      "0.9197080291970803\n",
      "              precision    recall  f1-score   support\n",
      "\n",
      "           1       0.92      0.77      0.84        30\n",
      "           2       0.81      0.84      0.82        25\n",
      "           3       0.82      1.00      0.90        14\n",
      "           5       0.94      1.00      0.97        17\n",
      "           6       1.00      1.00      1.00        23\n",
      "           7       1.00      1.00      1.00        28\n",
      "\n",
      "    accuracy                           0.92       137\n",
      "   macro avg       0.92      0.93      0.92       137\n",
      "weighted avg       0.92      0.92      0.92       137\n",
      "\n"
     ]
    }
   ],
   "source": [
    "rfc= RandomForestClassifier()\n",
    "rfc.fit(x_train,y_train)\n",
    "rfcy_pred1 = rfc.predict(x_test)\n",
    "\n",
    "print(accuracy_score(y_test,rfcy_pred1))\n",
    "print(classification_report(y_test,rfcy_pred1))"
   ]
  },
  {
   "cell_type": "markdown",
   "id": "8ea178f7",
   "metadata": {},
   "source": [
    "# BaggingClassifier"
   ]
  },
  {
   "cell_type": "code",
   "execution_count": 59,
   "id": "239a1987",
   "metadata": {},
   "outputs": [
    {
     "name": "stdout",
     "output_type": "stream",
     "text": [
      "0.8832116788321168\n",
      "              precision    recall  f1-score   support\n",
      "\n",
      "           1       0.81      0.70      0.75        30\n",
      "           2       0.72      0.72      0.72        25\n",
      "           3       0.82      1.00      0.90        14\n",
      "           5       0.94      1.00      0.97        17\n",
      "           6       1.00      1.00      1.00        23\n",
      "           7       1.00      1.00      1.00        28\n",
      "\n",
      "    accuracy                           0.88       137\n",
      "   macro avg       0.88      0.90      0.89       137\n",
      "weighted avg       0.88      0.88      0.88       137\n",
      "\n"
     ]
    }
   ],
   "source": [
    "bc = BaggingClassifier()\n",
    "bc.fit(x_train_sca,y_train)\n",
    "bcy_pred = bc.predict(x_test_sca)\n",
    "\n",
    "print(accuracy_score(y_test,bcy_pred))\n",
    "print(classification_report(y_test,bcy_pred))"
   ]
  },
  {
   "cell_type": "code",
   "execution_count": 60,
   "id": "d21cc0dc",
   "metadata": {},
   "outputs": [
    {
     "name": "stdout",
     "output_type": "stream",
     "text": [
      "0.9051094890510949\n",
      "              precision    recall  f1-score   support\n",
      "\n",
      "           1       0.83      0.80      0.81        30\n",
      "           2       0.78      0.72      0.75        25\n",
      "           3       0.88      1.00      0.93        14\n",
      "           5       0.94      1.00      0.97        17\n",
      "           6       1.00      1.00      1.00        23\n",
      "           7       1.00      1.00      1.00        28\n",
      "\n",
      "    accuracy                           0.91       137\n",
      "   macro avg       0.90      0.92      0.91       137\n",
      "weighted avg       0.90      0.91      0.90       137\n",
      "\n"
     ]
    }
   ],
   "source": [
    "bc = BaggingClassifier()\n",
    "bc.fit(x_train,y_train)\n",
    "bcy_pred1 = bc.predict(x_test)\n",
    "\n",
    "print(accuracy_score(y_test,bcy_pred1))\n",
    "print(classification_report(y_test,bcy_pred1))"
   ]
  },
  {
   "cell_type": "markdown",
   "id": "8caab789",
   "metadata": {},
   "source": [
    "# LogisticRegression"
   ]
  },
  {
   "cell_type": "code",
   "execution_count": 61,
   "id": "3169c031",
   "metadata": {},
   "outputs": [
    {
     "name": "stdout",
     "output_type": "stream",
     "text": [
      "              precision    recall  f1-score   support\n",
      "\n",
      "           1       0.72      0.60      0.65        30\n",
      "           2       0.47      0.32      0.38        25\n",
      "           3       0.43      0.86      0.57        14\n",
      "           5       0.77      1.00      0.87        17\n",
      "           6       1.00      1.00      1.00        23\n",
      "           7       1.00      0.79      0.88        28\n",
      "\n",
      "    accuracy                           0.73       137\n",
      "   macro avg       0.73      0.76      0.73       137\n",
      "weighted avg       0.76      0.73      0.73       137\n",
      "\n"
     ]
    }
   ],
   "source": [
    "lr = LogisticRegression()\n",
    "lr.fit(x_train_sca,y_train)\n",
    "lry_pred = lr.predict(x_test_sca)\n",
    "\n",
    "print(classification_report(y_test,lry_pred))"
   ]
  },
  {
   "cell_type": "code",
   "execution_count": 62,
   "id": "4d02654d",
   "metadata": {},
   "outputs": [
    {
     "name": "stdout",
     "output_type": "stream",
     "text": [
      "              precision    recall  f1-score   support\n",
      "\n",
      "           1       0.77      0.33      0.47        30\n",
      "           2       0.67      0.40      0.50        25\n",
      "           3       0.24      0.71      0.36        14\n",
      "           5       0.89      1.00      0.94        17\n",
      "           6       0.88      1.00      0.94        23\n",
      "           7       1.00      0.82      0.90        28\n",
      "\n",
      "    accuracy                           0.68       137\n",
      "   macro avg       0.74      0.71      0.69       137\n",
      "weighted avg       0.78      0.68      0.69       137\n",
      "\n"
     ]
    }
   ],
   "source": [
    "lr = LogisticRegression()\n",
    "lr.fit(x_train,y_train)\n",
    "lry_pred1 = lr.predict(x_test)\n",
    "\n",
    "print(classification_report(y_test,lry_pred1))"
   ]
  },
  {
   "cell_type": "markdown",
   "id": "d2031a67",
   "metadata": {},
   "source": [
    "# DecisionTreeClassifier"
   ]
  },
  {
   "cell_type": "code",
   "execution_count": 63,
   "id": "69943ab5",
   "metadata": {},
   "outputs": [
    {
     "name": "stdout",
     "output_type": "stream",
     "text": [
      "0.8832116788321168\n",
      "              precision    recall  f1-score   support\n",
      "\n",
      "           1       0.77      0.77      0.77        30\n",
      "           2       0.73      0.64      0.68        25\n",
      "           3       0.82      1.00      0.90        14\n",
      "           5       1.00      1.00      1.00        17\n",
      "           6       1.00      1.00      1.00        23\n",
      "           7       1.00      1.00      1.00        28\n",
      "\n",
      "    accuracy                           0.88       137\n",
      "   macro avg       0.89      0.90      0.89       137\n",
      "weighted avg       0.88      0.88      0.88       137\n",
      "\n"
     ]
    }
   ],
   "source": [
    "dtc= DecisionTreeClassifier()\n",
    "dtc.fit(x_train_sca,y_train)\n",
    "dtcy_pred = dtc.predict(x_test_sca)\n",
    "\n",
    "print(accuracy_score(y_test,dtcy_pred))\n",
    "print(classification_report(y_test,dtcy_pred))"
   ]
  },
  {
   "cell_type": "code",
   "execution_count": 64,
   "id": "e7abe052",
   "metadata": {},
   "outputs": [
    {
     "name": "stdout",
     "output_type": "stream",
     "text": [
      "0.8832116788321168\n",
      "              precision    recall  f1-score   support\n",
      "\n",
      "           1       0.75      0.70      0.72        30\n",
      "           2       0.72      0.72      0.72        25\n",
      "           3       0.88      1.00      0.93        14\n",
      "           5       1.00      1.00      1.00        17\n",
      "           6       1.00      1.00      1.00        23\n",
      "           7       1.00      1.00      1.00        28\n",
      "\n",
      "    accuracy                           0.88       137\n",
      "   macro avg       0.89      0.90      0.90       137\n",
      "weighted avg       0.88      0.88      0.88       137\n",
      "\n"
     ]
    }
   ],
   "source": [
    "dtc= DecisionTreeClassifier()\n",
    "dtc.fit(x_train,y_train)\n",
    "dtcy_pred1 = dtc.predict(x_test)\n",
    "\n",
    "print(accuracy_score(y_test,dtcy_pred1))\n",
    "print(classification_report(y_test,dtcy_pred1))"
   ]
  },
  {
   "cell_type": "markdown",
   "id": "b49ceafa",
   "metadata": {},
   "source": [
    "# SVC"
   ]
  },
  {
   "cell_type": "code",
   "execution_count": 65,
   "id": "b1c202c1",
   "metadata": {},
   "outputs": [
    {
     "name": "stdout",
     "output_type": "stream",
     "text": [
      "0.8102189781021898\n",
      "              precision    recall  f1-score   support\n",
      "\n",
      "           1       0.78      0.60      0.68        30\n",
      "           2       0.60      0.48      0.53        25\n",
      "           3       0.54      1.00      0.70        14\n",
      "           5       0.94      1.00      0.97        17\n",
      "           6       1.00      1.00      1.00        23\n",
      "           7       1.00      0.96      0.98        28\n",
      "\n",
      "    accuracy                           0.81       137\n",
      "   macro avg       0.81      0.84      0.81       137\n",
      "weighted avg       0.83      0.81      0.81       137\n",
      "\n"
     ]
    }
   ],
   "source": [
    "model= SVC()\n",
    "model.fit(x_train_sca,y_train)\n",
    "modely_pred = model.predict(x_test_sca)\n",
    "print(accuracy_score(y_test,modely_pred))\n",
    "print(classification_report(y_test,modely_pred))"
   ]
  },
  {
   "cell_type": "code",
   "execution_count": 66,
   "id": "159650bb",
   "metadata": {},
   "outputs": [
    {
     "name": "stdout",
     "output_type": "stream",
     "text": [
      "0.10218978102189781\n",
      "              precision    recall  f1-score   support\n",
      "\n",
      "           1       0.00      0.00      0.00        30\n",
      "           2       0.00      0.00      0.00        25\n",
      "           3       0.10      1.00      0.19        14\n",
      "           5       0.00      0.00      0.00        17\n",
      "           6       0.00      0.00      0.00        23\n",
      "           7       0.00      0.00      0.00        28\n",
      "\n",
      "    accuracy                           0.10       137\n",
      "   macro avg       0.02      0.17      0.03       137\n",
      "weighted avg       0.01      0.10      0.02       137\n",
      "\n"
     ]
    }
   ],
   "source": [
    "model= SVC()\n",
    "model.fit(x_train,y_train)\n",
    "modely_pred1 = model.predict(x_test)\n",
    "print(accuracy_score(y_test,modely_pred1))\n",
    "print(classification_report(y_test,modely_pred1))"
   ]
  },
  {
   "cell_type": "markdown",
   "id": "43c7adbc",
   "metadata": {},
   "source": [
    "# (BaggingClassifier - 90 , GradientBoostingClassifier - 91 , RandomForestClassifier - 92) performed best"
   ]
  },
  {
   "cell_type": "code",
   "execution_count": 67,
   "id": "9089dc5c",
   "metadata": {},
   "outputs": [],
   "source": [
    "scaled = pd.DataFrame([\n",
    "    [1,'GradientBoostingClassifier','90%'],\n",
    "    [2,'RandomForestClassifier','91%'],\n",
    "    [3,'AdaBoostClassifier','26%'],\n",
    "    [4,'LogisticRegression','73%'],\n",
    "    [5,'GaussianNB','70%'],\n",
    "    [6,'DecisionTreeClassifier','86%'],\n",
    "    [7,'svc','83%'],\n",
    "    [8,'BaggingClassifier','88%']\n",
    "],columns=['id','Models','scaled_Accuracy_before_cross_val'])"
   ]
  },
  {
   "cell_type": "code",
   "execution_count": 68,
   "id": "02190562",
   "metadata": {},
   "outputs": [],
   "source": [
    "not_scaled = pd.DataFrame([\n",
    "    [1,'GradientBoostingClassifier','90%'],\n",
    "    [2,'RandomForestClassifier','94%'],\n",
    "    [3,'AdaBoostClassifier','26%'],\n",
    "    [4,'LogisticRegression','68%'],\n",
    "    [5,'GaussianNB','70%'],\n",
    "    [6,'DecisionTreeClassifier','87%'],\n",
    "    [7,'svc','10%'],\n",
    "    [8,'BaggingClassifier','88%']\n",
    "],columns=['id','Models','not_scaled_Accuracy_before_cross_val'])"
   ]
  },
  {
   "cell_type": "code",
   "execution_count": 69,
   "id": "85056e40",
   "metadata": {},
   "outputs": [
    {
     "data": {
      "text/html": [
       "<div>\n",
       "<style scoped>\n",
       "    .dataframe tbody tr th:only-of-type {\n",
       "        vertical-align: middle;\n",
       "    }\n",
       "\n",
       "    .dataframe tbody tr th {\n",
       "        vertical-align: top;\n",
       "    }\n",
       "\n",
       "    .dataframe thead th {\n",
       "        text-align: right;\n",
       "    }\n",
       "</style>\n",
       "<table border=\"1\" class=\"dataframe\">\n",
       "  <thead>\n",
       "    <tr style=\"text-align: right;\">\n",
       "      <th></th>\n",
       "      <th>id</th>\n",
       "      <th>Models</th>\n",
       "      <th>scaled_Accuracy_before_cross_val</th>\n",
       "      <th>not_scaled_Accuracy_before_cross_val</th>\n",
       "    </tr>\n",
       "  </thead>\n",
       "  <tbody>\n",
       "    <tr>\n",
       "      <th>0</th>\n",
       "      <td>1</td>\n",
       "      <td>GradientBoostingClassifier</td>\n",
       "      <td>90%</td>\n",
       "      <td>90%</td>\n",
       "    </tr>\n",
       "    <tr>\n",
       "      <th>1</th>\n",
       "      <td>2</td>\n",
       "      <td>RandomForestClassifier</td>\n",
       "      <td>91%</td>\n",
       "      <td>94%</td>\n",
       "    </tr>\n",
       "    <tr>\n",
       "      <th>2</th>\n",
       "      <td>3</td>\n",
       "      <td>AdaBoostClassifier</td>\n",
       "      <td>26%</td>\n",
       "      <td>26%</td>\n",
       "    </tr>\n",
       "    <tr>\n",
       "      <th>3</th>\n",
       "      <td>4</td>\n",
       "      <td>LogisticRegression</td>\n",
       "      <td>73%</td>\n",
       "      <td>68%</td>\n",
       "    </tr>\n",
       "    <tr>\n",
       "      <th>4</th>\n",
       "      <td>5</td>\n",
       "      <td>GaussianNB</td>\n",
       "      <td>70%</td>\n",
       "      <td>70%</td>\n",
       "    </tr>\n",
       "    <tr>\n",
       "      <th>5</th>\n",
       "      <td>6</td>\n",
       "      <td>DecisionTreeClassifier</td>\n",
       "      <td>86%</td>\n",
       "      <td>87%</td>\n",
       "    </tr>\n",
       "    <tr>\n",
       "      <th>6</th>\n",
       "      <td>7</td>\n",
       "      <td>svc</td>\n",
       "      <td>83%</td>\n",
       "      <td>10%</td>\n",
       "    </tr>\n",
       "    <tr>\n",
       "      <th>7</th>\n",
       "      <td>8</td>\n",
       "      <td>BaggingClassifier</td>\n",
       "      <td>88%</td>\n",
       "      <td>88%</td>\n",
       "    </tr>\n",
       "  </tbody>\n",
       "</table>\n",
       "</div>"
      ],
      "text/plain": [
       "   id                      Models scaled_Accuracy_before_cross_val  \\\n",
       "0   1  GradientBoostingClassifier                              90%   \n",
       "1   2      RandomForestClassifier                              91%   \n",
       "2   3          AdaBoostClassifier                              26%   \n",
       "3   4          LogisticRegression                              73%   \n",
       "4   5                  GaussianNB                              70%   \n",
       "5   6      DecisionTreeClassifier                              86%   \n",
       "6   7                         svc                              83%   \n",
       "7   8           BaggingClassifier                              88%   \n",
       "\n",
       "  not_scaled_Accuracy_before_cross_val  \n",
       "0                                  90%  \n",
       "1                                  94%  \n",
       "2                                  26%  \n",
       "3                                  68%  \n",
       "4                                  70%  \n",
       "5                                  87%  \n",
       "6                                  10%  \n",
       "7                                  88%  "
      ]
     },
     "execution_count": 69,
     "metadata": {},
     "output_type": "execute_result"
    }
   ],
   "source": [
    "aa=scaled.merge(not_scaled)\n",
    "aa"
   ]
  },
  {
   "cell_type": "markdown",
   "id": "4b9dbd1a",
   "metadata": {},
   "source": [
    "."
   ]
  },
  {
   "cell_type": "markdown",
   "id": "301341db",
   "metadata": {},
   "source": [
    "."
   ]
  },
  {
   "cell_type": "markdown",
   "id": "96ccd594",
   "metadata": {},
   "source": [
    "."
   ]
  },
  {
   "cell_type": "markdown",
   "id": "f6981819",
   "metadata": {},
   "source": [
    "# Cross Value Score"
   ]
  },
  {
   "cell_type": "code",
   "execution_count": 70,
   "id": "83407cde",
   "metadata": {},
   "outputs": [],
   "source": [
    "from sklearn.model_selection import cross_val_score"
   ]
  },
  {
   "cell_type": "code",
   "execution_count": 71,
   "id": "f82ab37f",
   "metadata": {},
   "outputs": [
    {
     "name": "stdout",
     "output_type": "stream",
     "text": [
      "[0.93478261 0.87912088 0.81318681 0.84615385 0.96703297]\n",
      "0.8880554228380315\n",
      "difference 0.02435333628605607\n"
     ]
    }
   ],
   "source": [
    "recheck = cross_val_score(gbc,x,y)\n",
    "print(recheck)\n",
    "print(recheck.mean())\n",
    "print(\"difference\",accuracy_score(y_test,gbcy_pred) - recheck.mean())"
   ]
  },
  {
   "cell_type": "code",
   "execution_count": 72,
   "id": "51a85183",
   "metadata": {},
   "outputs": [
    {
     "name": "stdout",
     "output_type": "stream",
     "text": [
      "[0.93478261 0.87912088 0.81318681 0.84615385 0.96703297]\n",
      "0.8880554228380315\n",
      "difference 0.02435333628605607\n"
     ]
    }
   ],
   "source": [
    "recheck = cross_val_score(gbc,x,y)\n",
    "print(recheck)\n",
    "print(recheck.mean())\n",
    "print(\"difference\",accuracy_score(y_test,gbcy_pred1) - recheck.mean())"
   ]
  },
  {
   "cell_type": "markdown",
   "id": "f9340aa6",
   "metadata": {},
   "source": [
    "."
   ]
  },
  {
   "cell_type": "code",
   "execution_count": 73,
   "id": "b872fc41",
   "metadata": {},
   "outputs": [
    {
     "name": "stdout",
     "output_type": "stream",
     "text": [
      "[0.91304348 0.85714286 0.85714286 0.85714286 0.94505495]\n",
      "0.8859053989488771\n",
      "difference 0.02650336017521049\n"
     ]
    }
   ],
   "source": [
    "recheck = cross_val_score(rfc,x,y)\n",
    "print(recheck)\n",
    "print(recheck.mean())\n",
    "print(\"difference\",accuracy_score(y_test,rfcy_pred) - recheck.mean())"
   ]
  },
  {
   "cell_type": "code",
   "execution_count": 74,
   "id": "160d6762",
   "metadata": {},
   "outputs": [
    {
     "name": "stdout",
     "output_type": "stream",
     "text": [
      "[0.92391304 0.87912088 0.85714286 0.85714286 0.94505495]\n",
      "0.8924749163879598\n",
      "difference 0.02723311280912044\n"
     ]
    }
   ],
   "source": [
    "recheck = cross_val_score(rfc,x,y)\n",
    "print(recheck)\n",
    "print(recheck.mean())\n",
    "print(\"difference\",accuracy_score(y_test,rfcy_pred1) - recheck.mean())"
   ]
  },
  {
   "cell_type": "markdown",
   "id": "2151b370",
   "metadata": {},
   "source": [
    "."
   ]
  },
  {
   "cell_type": "code",
   "execution_count": 75,
   "id": "f715a663",
   "metadata": {},
   "outputs": [
    {
     "name": "stdout",
     "output_type": "stream",
     "text": [
      "[0.42391304 0.38461538 0.40659341 0.61538462 0.46153846]\n",
      "0.45840898232202587\n",
      "difference -0.19563525969428863\n"
     ]
    }
   ],
   "source": [
    "recheck = cross_val_score(abc,x,y)\n",
    "print(recheck)\n",
    "print(recheck.mean())\n",
    "print(\"difference\",accuracy_score(y_test,abcy_pred) - recheck.mean())"
   ]
  },
  {
   "cell_type": "code",
   "execution_count": 76,
   "id": "6e96d73a",
   "metadata": {},
   "outputs": [
    {
     "name": "stdout",
     "output_type": "stream",
     "text": [
      "[0.42391304 0.38461538 0.40659341 0.61538462 0.46153846]\n",
      "0.45840898232202587\n",
      "difference -0.19563525969428863\n"
     ]
    }
   ],
   "source": [
    "recheck = cross_val_score(abc,x,y)\n",
    "print(recheck)\n",
    "print(recheck.mean())\n",
    "print(\"difference\",accuracy_score(y_test,abcy_pred1) - recheck.mean())"
   ]
  },
  {
   "cell_type": "markdown",
   "id": "a3825787",
   "metadata": {},
   "source": [
    "."
   ]
  },
  {
   "cell_type": "code",
   "execution_count": 77,
   "id": "8ffa4709",
   "metadata": {},
   "outputs": [
    {
     "name": "stdout",
     "output_type": "stream",
     "text": [
      "[0.69565217 0.75824176 0.67032967 0.62637363 0.65934066]\n",
      "0.6819875776397515\n",
      "difference 0.047939429659518584\n"
     ]
    }
   ],
   "source": [
    "recheck = cross_val_score(lr,x,y)\n",
    "print(recheck)\n",
    "print(recheck.mean())\n",
    "print(\"difference\",accuracy_score(y_test,lry_pred) - recheck.mean())"
   ]
  },
  {
   "cell_type": "code",
   "execution_count": 78,
   "id": "c28bf42d",
   "metadata": {},
   "outputs": [
    {
     "name": "stdout",
     "output_type": "stream",
     "text": [
      "[0.69565217 0.75824176 0.67032967 0.62637363 0.65934066]\n",
      "0.6819875776397515\n",
      "difference -0.0031554608514303695\n"
     ]
    }
   ],
   "source": [
    "recheck = cross_val_score(lr,x,y)\n",
    "print(recheck)\n",
    "print(recheck.mean())\n",
    "print(\"difference\",accuracy_score(y_test,lry_pred1) - recheck.mean())"
   ]
  },
  {
   "cell_type": "markdown",
   "id": "a7d5306d",
   "metadata": {},
   "source": [
    "."
   ]
  },
  {
   "cell_type": "code",
   "execution_count": 79,
   "id": "f480b5c8",
   "metadata": {},
   "outputs": [
    {
     "name": "stdout",
     "output_type": "stream",
     "text": [
      "[0.60869565 0.58241758 0.7032967  0.62637363 0.58241758]\n",
      "0.6206402293358816\n",
      "difference 0.07279042759842502\n"
     ]
    }
   ],
   "source": [
    "recheck = cross_val_score(gs,x,y)\n",
    "print(recheck)\n",
    "print(recheck.mean())\n",
    "print(\"difference\",accuracy_score(y_test,gsy_pred) - recheck.mean())"
   ]
  },
  {
   "cell_type": "code",
   "execution_count": 80,
   "id": "22fa0ee5",
   "metadata": {},
   "outputs": [
    {
     "name": "stdout",
     "output_type": "stream",
     "text": [
      "[0.60869565 0.58241758 0.7032967  0.62637363 0.58241758]\n",
      "0.6206402293358816\n",
      "difference 0.07279042759842502\n"
     ]
    }
   ],
   "source": [
    "recheck = cross_val_score(gs,x,y)\n",
    "print(recheck)\n",
    "print(recheck.mean())\n",
    "print(\"difference\",accuracy_score(y_test,gsy_pred1) - recheck.mean())"
   ]
  },
  {
   "cell_type": "markdown",
   "id": "83424d7b",
   "metadata": {},
   "source": [
    "."
   ]
  },
  {
   "cell_type": "code",
   "execution_count": 81,
   "id": "eaad43d8",
   "metadata": {},
   "outputs": [
    {
     "name": "stdout",
     "output_type": "stream",
     "text": [
      "[0.86956522 0.81318681 0.85714286 0.86813187 0.92307692]\n",
      "0.8662207357859533\n",
      "difference 0.016990943046163554\n"
     ]
    }
   ],
   "source": [
    "recheck = cross_val_score(dtc,x,y)\n",
    "print(recheck)\n",
    "print(recheck.mean())\n",
    "print(\"difference\",accuracy_score(y_test,dtcy_pred) - recheck.mean())"
   ]
  },
  {
   "cell_type": "code",
   "execution_count": 82,
   "id": "cbdddc91",
   "metadata": {},
   "outputs": [
    {
     "name": "stdout",
     "output_type": "stream",
     "text": [
      "[0.85869565 0.84615385 0.84615385 0.87912088 0.87912088]\n",
      "0.8618490205446727\n",
      "difference 0.021362658287444103\n"
     ]
    }
   ],
   "source": [
    "recheck = cross_val_score(dtc,x,y)\n",
    "print(recheck)\n",
    "print(recheck.mean())\n",
    "print(\"difference\",accuracy_score(y_test,dtcy_pred1) - recheck.mean())"
   ]
  },
  {
   "cell_type": "markdown",
   "id": "35ee34fa",
   "metadata": {},
   "source": [
    "."
   ]
  },
  {
   "cell_type": "code",
   "execution_count": 83,
   "id": "8788cd32",
   "metadata": {},
   "outputs": [
    {
     "name": "stdout",
     "output_type": "stream",
     "text": [
      "[0.39130435 0.50549451 0.40659341 0.30769231 0.30769231]\n",
      "0.38375537505972285\n",
      "difference 0.42646360304246694\n"
     ]
    }
   ],
   "source": [
    "recheck = cross_val_score(model,x,y)\n",
    "print(recheck)\n",
    "print(recheck.mean())\n",
    "print(\"difference\",accuracy_score(y_test,modely_pred) - recheck.mean())"
   ]
  },
  {
   "cell_type": "code",
   "execution_count": 84,
   "id": "bc491fa8",
   "metadata": {},
   "outputs": [
    {
     "name": "stdout",
     "output_type": "stream",
     "text": [
      "[0.39130435 0.50549451 0.40659341 0.30769231 0.30769231]\n",
      "0.38375537505972285\n",
      "difference -0.28156559403782505\n"
     ]
    }
   ],
   "source": [
    "recheck = cross_val_score(model,x,y)\n",
    "print(recheck)\n",
    "print(recheck.mean())\n",
    "print(\"difference\",accuracy_score(y_test,modely_pred1) - recheck.mean())"
   ]
  },
  {
   "cell_type": "markdown",
   "id": "1bfaaa06",
   "metadata": {},
   "source": [
    "."
   ]
  },
  {
   "cell_type": "code",
   "execution_count": 85,
   "id": "7e92121e",
   "metadata": {},
   "outputs": [
    {
     "name": "stdout",
     "output_type": "stream",
     "text": [
      "[0.88043478 0.8021978  0.84615385 0.81318681 0.89010989]\n",
      "0.8464166268514095\n",
      "difference 0.036795051980707316\n"
     ]
    }
   ],
   "source": [
    "recheck = cross_val_score(bc,x,y)\n",
    "print(recheck)\n",
    "print(recheck.mean())\n",
    "print(\"difference\",accuracy_score(y_test,bcy_pred) - recheck.mean())"
   ]
  },
  {
   "cell_type": "code",
   "execution_count": 86,
   "id": "465d8e34",
   "metadata": {},
   "outputs": [
    {
     "name": "stdout",
     "output_type": "stream",
     "text": [
      "[0.90217391 0.83516484 0.83516484 0.81318681 0.92307692]\n",
      "0.8617534639273771\n",
      "difference 0.043356025123717834\n"
     ]
    }
   ],
   "source": [
    "recheck = cross_val_score(bc,x,y)\n",
    "print(recheck)\n",
    "print(recheck.mean())\n",
    "print(\"difference\",accuracy_score(y_test,bcy_pred1) - recheck.mean())"
   ]
  },
  {
   "cell_type": "markdown",
   "id": "7ea4c499",
   "metadata": {},
   "source": [
    "."
   ]
  },
  {
   "cell_type": "markdown",
   "id": "b1a94573",
   "metadata": {},
   "source": [
    "# After Cross_Value_Score"
   ]
  },
  {
   "cell_type": "code",
   "execution_count": 87,
   "id": "1671dbe3",
   "metadata": {},
   "outputs": [],
   "source": [
    "without_over_sampling = pd.DataFrame([\n",
    "    [1,'GradientBoostingClassifier','72%'],\n",
    "    [2,'RandomForestClassifier','70%'],\n",
    "    [3,'AdaBoostClassifier','40%'],\n",
    "    [4,'LogisticRegression','56%'],\n",
    "    [5,'GaussianNB','40%'],\n",
    "    [6,'DecisionTreeClassifier','55%'],\n",
    "    [7,'svc','35%'],\n",
    "    [8,'BaggingClassifier','58%']\n",
    "],columns=['id','Models','without_over_sampling_Accuracy'])"
   ]
  },
  {
   "cell_type": "code",
   "execution_count": 88,
   "id": "4d5fef6d",
   "metadata": {},
   "outputs": [],
   "source": [
    "over_sampling = pd.DataFrame([\n",
    "    [1,'GradientBoostingClassifier','90%'],\n",
    "    [2,'RandomForestClassifier','90%'],\n",
    "    [3,'AdaBoostClassifier','45%'],\n",
    "    [4,'LogisticRegression','68%'],\n",
    "    [5,'GaussianNB','62%'],\n",
    "    [6,'DecisionTreeClassifier','87%'],\n",
    "    [7,'svc','38%'],\n",
    "    [8,'BaggingClassifier','86%']\n",
    "],columns=['id','Models','over_sampled_Accuracy'])"
   ]
  },
  {
   "cell_type": "code",
   "execution_count": 89,
   "id": "a7b19b60",
   "metadata": {},
   "outputs": [],
   "source": [
    "over_sampled_but_not_scaled = pd.DataFrame([\n",
    "    [1,'GradientBoostingClassifier','90%'],\n",
    "    [2,'RandomForestClassifier','88%'],\n",
    "    [3,'AdaBoostClassifier','45%'],\n",
    "    [4,'LogisticRegression','68%'],\n",
    "    [5,'GaussianNB','62%'],\n",
    "    [6,'DecisionTreeClassifier','87%'],\n",
    "    [7,'svc','38%'],\n",
    "    [8,'BaggingClassifier','85%']\n",
    "],columns=['id','Models','not_scaled_Accuracy'])\n"
   ]
  },
  {
   "cell_type": "markdown",
   "id": "6e98748c",
   "metadata": {},
   "source": [
    "."
   ]
  },
  {
   "cell_type": "code",
   "execution_count": 90,
   "id": "414a2062",
   "metadata": {},
   "outputs": [],
   "source": [
    "a=over_sampling.merge(over_sampled_but_not_scaled)"
   ]
  },
  {
   "cell_type": "code",
   "execution_count": 91,
   "id": "fd9f65c2",
   "metadata": {},
   "outputs": [],
   "source": [
    "b=without_over_sampling.merge(a)"
   ]
  },
  {
   "cell_type": "code",
   "execution_count": 92,
   "id": "10de0bc5",
   "metadata": {},
   "outputs": [],
   "source": [
    "c=b.merge(aa).set_index('id')"
   ]
  },
  {
   "cell_type": "code",
   "execution_count": 93,
   "id": "28642a50",
   "metadata": {},
   "outputs": [
    {
     "data": {
      "text/html": [
       "<div>\n",
       "<style scoped>\n",
       "    .dataframe tbody tr th:only-of-type {\n",
       "        vertical-align: middle;\n",
       "    }\n",
       "\n",
       "    .dataframe tbody tr th {\n",
       "        vertical-align: top;\n",
       "    }\n",
       "\n",
       "    .dataframe thead th {\n",
       "        text-align: right;\n",
       "    }\n",
       "</style>\n",
       "<table border=\"1\" class=\"dataframe\">\n",
       "  <thead>\n",
       "    <tr style=\"text-align: right;\">\n",
       "      <th></th>\n",
       "      <th>Models</th>\n",
       "      <th>without_over_sampling_Accuracy</th>\n",
       "      <th>over_sampled_Accuracy</th>\n",
       "      <th>not_scaled_Accuracy</th>\n",
       "      <th>scaled_Accuracy_before_cross_val</th>\n",
       "      <th>not_scaled_Accuracy_before_cross_val</th>\n",
       "    </tr>\n",
       "    <tr>\n",
       "      <th>id</th>\n",
       "      <th></th>\n",
       "      <th></th>\n",
       "      <th></th>\n",
       "      <th></th>\n",
       "      <th></th>\n",
       "      <th></th>\n",
       "    </tr>\n",
       "  </thead>\n",
       "  <tbody>\n",
       "    <tr>\n",
       "      <th>1</th>\n",
       "      <td>GradientBoostingClassifier</td>\n",
       "      <td>72%</td>\n",
       "      <td>90%</td>\n",
       "      <td>90%</td>\n",
       "      <td>90%</td>\n",
       "      <td>90%</td>\n",
       "    </tr>\n",
       "    <tr>\n",
       "      <th>2</th>\n",
       "      <td>RandomForestClassifier</td>\n",
       "      <td>70%</td>\n",
       "      <td>90%</td>\n",
       "      <td>88%</td>\n",
       "      <td>91%</td>\n",
       "      <td>94%</td>\n",
       "    </tr>\n",
       "    <tr>\n",
       "      <th>3</th>\n",
       "      <td>AdaBoostClassifier</td>\n",
       "      <td>40%</td>\n",
       "      <td>45%</td>\n",
       "      <td>45%</td>\n",
       "      <td>26%</td>\n",
       "      <td>26%</td>\n",
       "    </tr>\n",
       "    <tr>\n",
       "      <th>4</th>\n",
       "      <td>LogisticRegression</td>\n",
       "      <td>56%</td>\n",
       "      <td>68%</td>\n",
       "      <td>68%</td>\n",
       "      <td>73%</td>\n",
       "      <td>68%</td>\n",
       "    </tr>\n",
       "    <tr>\n",
       "      <th>5</th>\n",
       "      <td>GaussianNB</td>\n",
       "      <td>40%</td>\n",
       "      <td>62%</td>\n",
       "      <td>62%</td>\n",
       "      <td>70%</td>\n",
       "      <td>70%</td>\n",
       "    </tr>\n",
       "    <tr>\n",
       "      <th>6</th>\n",
       "      <td>DecisionTreeClassifier</td>\n",
       "      <td>55%</td>\n",
       "      <td>87%</td>\n",
       "      <td>87%</td>\n",
       "      <td>86%</td>\n",
       "      <td>87%</td>\n",
       "    </tr>\n",
       "    <tr>\n",
       "      <th>7</th>\n",
       "      <td>svc</td>\n",
       "      <td>35%</td>\n",
       "      <td>38%</td>\n",
       "      <td>38%</td>\n",
       "      <td>83%</td>\n",
       "      <td>10%</td>\n",
       "    </tr>\n",
       "    <tr>\n",
       "      <th>8</th>\n",
       "      <td>BaggingClassifier</td>\n",
       "      <td>58%</td>\n",
       "      <td>86%</td>\n",
       "      <td>85%</td>\n",
       "      <td>88%</td>\n",
       "      <td>88%</td>\n",
       "    </tr>\n",
       "  </tbody>\n",
       "</table>\n",
       "</div>"
      ],
      "text/plain": [
       "                        Models without_over_sampling_Accuracy  \\\n",
       "id                                                              \n",
       "1   GradientBoostingClassifier                            72%   \n",
       "2       RandomForestClassifier                            70%   \n",
       "3           AdaBoostClassifier                            40%   \n",
       "4           LogisticRegression                            56%   \n",
       "5                   GaussianNB                            40%   \n",
       "6       DecisionTreeClassifier                            55%   \n",
       "7                          svc                            35%   \n",
       "8            BaggingClassifier                            58%   \n",
       "\n",
       "   over_sampled_Accuracy not_scaled_Accuracy scaled_Accuracy_before_cross_val  \\\n",
       "id                                                                              \n",
       "1                    90%                 90%                              90%   \n",
       "2                    90%                 88%                              91%   \n",
       "3                    45%                 45%                              26%   \n",
       "4                    68%                 68%                              73%   \n",
       "5                    62%                 62%                              70%   \n",
       "6                    87%                 87%                              86%   \n",
       "7                    38%                 38%                              83%   \n",
       "8                    86%                 85%                              88%   \n",
       "\n",
       "   not_scaled_Accuracy_before_cross_val  \n",
       "id                                       \n",
       "1                                   90%  \n",
       "2                                   94%  \n",
       "3                                   26%  \n",
       "4                                   68%  \n",
       "5                                   70%  \n",
       "6                                   87%  \n",
       "7                                   10%  \n",
       "8                                   88%  "
      ]
     },
     "execution_count": 93,
     "metadata": {},
     "output_type": "execute_result"
    }
   ],
   "source": [
    "c"
   ]
  },
  {
   "cell_type": "markdown",
   "id": "8bc341c8",
   "metadata": {},
   "source": [
    "# Best models:\n",
    "1.GradientBoostingClassifier\n",
    "2.RandomForestClassifier\n",
    "3.BaggingClassifier\n",
    "4.DecisionTreeClassifier"
   ]
  },
  {
   "cell_type": "markdown",
   "id": "7130ca7d",
   "metadata": {},
   "source": [
    "."
   ]
  },
  {
   "cell_type": "markdown",
   "id": "969cad52",
   "metadata": {},
   "source": [
    "."
   ]
  },
  {
   "cell_type": "markdown",
   "id": "166ad76b",
   "metadata": {},
   "source": [
    "# gbc"
   ]
  },
  {
   "cell_type": "markdown",
   "id": "4cbe4f7d",
   "metadata": {},
   "source": [
    "."
   ]
  },
  {
   "cell_type": "code",
   "execution_count": 94,
   "id": "d3364c97",
   "metadata": {},
   "outputs": [],
   "source": [
    "import pickle\n",
    "with open('Glass Identification.pkl','wb')as file:\n",
    "    pickle.dump(gbc,file)"
   ]
  },
  {
   "cell_type": "code",
   "execution_count": 95,
   "id": "c32bd81e",
   "metadata": {},
   "outputs": [
    {
     "data": {
      "text/html": [
       "<style>#sk-container-id-1 {color: black;background-color: white;}#sk-container-id-1 pre{padding: 0;}#sk-container-id-1 div.sk-toggleable {background-color: white;}#sk-container-id-1 label.sk-toggleable__label {cursor: pointer;display: block;width: 100%;margin-bottom: 0;padding: 0.3em;box-sizing: border-box;text-align: center;}#sk-container-id-1 label.sk-toggleable__label-arrow:before {content: \"▸\";float: left;margin-right: 0.25em;color: #696969;}#sk-container-id-1 label.sk-toggleable__label-arrow:hover:before {color: black;}#sk-container-id-1 div.sk-estimator:hover label.sk-toggleable__label-arrow:before {color: black;}#sk-container-id-1 div.sk-toggleable__content {max-height: 0;max-width: 0;overflow: hidden;text-align: left;background-color: #f0f8ff;}#sk-container-id-1 div.sk-toggleable__content pre {margin: 0.2em;color: black;border-radius: 0.25em;background-color: #f0f8ff;}#sk-container-id-1 input.sk-toggleable__control:checked~div.sk-toggleable__content {max-height: 200px;max-width: 100%;overflow: auto;}#sk-container-id-1 input.sk-toggleable__control:checked~label.sk-toggleable__label-arrow:before {content: \"▾\";}#sk-container-id-1 div.sk-estimator input.sk-toggleable__control:checked~label.sk-toggleable__label {background-color: #d4ebff;}#sk-container-id-1 div.sk-label input.sk-toggleable__control:checked~label.sk-toggleable__label {background-color: #d4ebff;}#sk-container-id-1 input.sk-hidden--visually {border: 0;clip: rect(1px 1px 1px 1px);clip: rect(1px, 1px, 1px, 1px);height: 1px;margin: -1px;overflow: hidden;padding: 0;position: absolute;width: 1px;}#sk-container-id-1 div.sk-estimator {font-family: monospace;background-color: #f0f8ff;border: 1px dotted black;border-radius: 0.25em;box-sizing: border-box;margin-bottom: 0.5em;}#sk-container-id-1 div.sk-estimator:hover {background-color: #d4ebff;}#sk-container-id-1 div.sk-parallel-item::after {content: \"\";width: 100%;border-bottom: 1px solid gray;flex-grow: 1;}#sk-container-id-1 div.sk-label:hover label.sk-toggleable__label {background-color: #d4ebff;}#sk-container-id-1 div.sk-serial::before {content: \"\";position: absolute;border-left: 1px solid gray;box-sizing: border-box;top: 0;bottom: 0;left: 50%;z-index: 0;}#sk-container-id-1 div.sk-serial {display: flex;flex-direction: column;align-items: center;background-color: white;padding-right: 0.2em;padding-left: 0.2em;position: relative;}#sk-container-id-1 div.sk-item {position: relative;z-index: 1;}#sk-container-id-1 div.sk-parallel {display: flex;align-items: stretch;justify-content: center;background-color: white;position: relative;}#sk-container-id-1 div.sk-item::before, #sk-container-id-1 div.sk-parallel-item::before {content: \"\";position: absolute;border-left: 1px solid gray;box-sizing: border-box;top: 0;bottom: 0;left: 50%;z-index: -1;}#sk-container-id-1 div.sk-parallel-item {display: flex;flex-direction: column;z-index: 1;position: relative;background-color: white;}#sk-container-id-1 div.sk-parallel-item:first-child::after {align-self: flex-end;width: 50%;}#sk-container-id-1 div.sk-parallel-item:last-child::after {align-self: flex-start;width: 50%;}#sk-container-id-1 div.sk-parallel-item:only-child::after {width: 0;}#sk-container-id-1 div.sk-dashed-wrapped {border: 1px dashed gray;margin: 0 0.4em 0.5em 0.4em;box-sizing: border-box;padding-bottom: 0.4em;background-color: white;}#sk-container-id-1 div.sk-label label {font-family: monospace;font-weight: bold;display: inline-block;line-height: 1.2em;}#sk-container-id-1 div.sk-label-container {text-align: center;}#sk-container-id-1 div.sk-container {/* jupyter's `normalize.less` sets `[hidden] { display: none; }` but bootstrap.min.css set `[hidden] { display: none !important; }` so we also need the `!important` here to be able to override the default hidden behavior on the sphinx rendered scikit-learn.org. See: https://github.com/scikit-learn/scikit-learn/issues/21755 */display: inline-block !important;position: relative;}#sk-container-id-1 div.sk-text-repr-fallback {display: none;}</style><div id=\"sk-container-id-1\" class=\"sk-top-container\"><div class=\"sk-text-repr-fallback\"><pre>GradientBoostingClassifier()</pre><b>In a Jupyter environment, please rerun this cell to show the HTML representation or trust the notebook. <br />On GitHub, the HTML representation is unable to render, please try loading this page with nbviewer.org.</b></div><div class=\"sk-container\" hidden><div class=\"sk-item\"><div class=\"sk-estimator sk-toggleable\"><input class=\"sk-toggleable__control sk-hidden--visually\" id=\"sk-estimator-id-1\" type=\"checkbox\" checked><label for=\"sk-estimator-id-1\" class=\"sk-toggleable__label sk-toggleable__label-arrow\">GradientBoostingClassifier</label><div class=\"sk-toggleable__content\"><pre>GradientBoostingClassifier()</pre></div></div></div></div></div>"
      ],
      "text/plain": [
       "GradientBoostingClassifier()"
      ]
     },
     "execution_count": 95,
     "metadata": {},
     "output_type": "execute_result"
    }
   ],
   "source": [
    "import pickle\n",
    "with open('Glass Identification.pkl','rb')as file:\n",
    "    Termdeposit=pickle.load(file)\n",
    "Termdeposit"
   ]
  },
  {
   "cell_type": "code",
   "execution_count": 99,
   "id": "299309bc",
   "metadata": {},
   "outputs": [
    {
     "data": {
      "text/html": [
       "<div>\n",
       "<style scoped>\n",
       "    .dataframe tbody tr th:only-of-type {\n",
       "        vertical-align: middle;\n",
       "    }\n",
       "\n",
       "    .dataframe tbody tr th {\n",
       "        vertical-align: top;\n",
       "    }\n",
       "\n",
       "    .dataframe thead th {\n",
       "        text-align: right;\n",
       "    }\n",
       "</style>\n",
       "<table border=\"1\" class=\"dataframe\">\n",
       "  <thead>\n",
       "    <tr style=\"text-align: right;\">\n",
       "      <th></th>\n",
       "      <th>RI</th>\n",
       "      <th>Na</th>\n",
       "      <th>Mg</th>\n",
       "      <th>AI</th>\n",
       "      <th>SI</th>\n",
       "      <th>K</th>\n",
       "      <th>Ca</th>\n",
       "      <th>Ba</th>\n",
       "      <th>Fe</th>\n",
       "      <th>Types of glass</th>\n",
       "    </tr>\n",
       "    <tr>\n",
       "      <th>id</th>\n",
       "      <th></th>\n",
       "      <th></th>\n",
       "      <th></th>\n",
       "      <th></th>\n",
       "      <th></th>\n",
       "      <th></th>\n",
       "      <th></th>\n",
       "      <th></th>\n",
       "      <th></th>\n",
       "      <th></th>\n",
       "    </tr>\n",
       "  </thead>\n",
       "  <tbody>\n",
       "    <tr>\n",
       "      <th>2</th>\n",
       "      <td>1.51761</td>\n",
       "      <td>13.89</td>\n",
       "      <td>3.60</td>\n",
       "      <td>1.36</td>\n",
       "      <td>72.73</td>\n",
       "      <td>0.48</td>\n",
       "      <td>7.83</td>\n",
       "      <td>0.00</td>\n",
       "      <td>0.00</td>\n",
       "      <td>1</td>\n",
       "    </tr>\n",
       "    <tr>\n",
       "      <th>3</th>\n",
       "      <td>1.51618</td>\n",
       "      <td>13.53</td>\n",
       "      <td>3.55</td>\n",
       "      <td>1.54</td>\n",
       "      <td>72.99</td>\n",
       "      <td>0.39</td>\n",
       "      <td>7.78</td>\n",
       "      <td>0.00</td>\n",
       "      <td>0.00</td>\n",
       "      <td>1</td>\n",
       "    </tr>\n",
       "    <tr>\n",
       "      <th>4</th>\n",
       "      <td>1.51766</td>\n",
       "      <td>13.21</td>\n",
       "      <td>3.69</td>\n",
       "      <td>1.29</td>\n",
       "      <td>72.61</td>\n",
       "      <td>0.57</td>\n",
       "      <td>8.22</td>\n",
       "      <td>0.00</td>\n",
       "      <td>0.00</td>\n",
       "      <td>1</td>\n",
       "    </tr>\n",
       "    <tr>\n",
       "      <th>5</th>\n",
       "      <td>1.51742</td>\n",
       "      <td>13.27</td>\n",
       "      <td>3.62</td>\n",
       "      <td>1.24</td>\n",
       "      <td>73.08</td>\n",
       "      <td>0.55</td>\n",
       "      <td>8.07</td>\n",
       "      <td>0.00</td>\n",
       "      <td>0.00</td>\n",
       "      <td>1</td>\n",
       "    </tr>\n",
       "    <tr>\n",
       "      <th>6</th>\n",
       "      <td>1.51596</td>\n",
       "      <td>12.79</td>\n",
       "      <td>3.61</td>\n",
       "      <td>1.62</td>\n",
       "      <td>72.97</td>\n",
       "      <td>0.64</td>\n",
       "      <td>8.07</td>\n",
       "      <td>0.00</td>\n",
       "      <td>0.26</td>\n",
       "      <td>1</td>\n",
       "    </tr>\n",
       "    <tr>\n",
       "      <th>...</th>\n",
       "      <td>...</td>\n",
       "      <td>...</td>\n",
       "      <td>...</td>\n",
       "      <td>...</td>\n",
       "      <td>...</td>\n",
       "      <td>...</td>\n",
       "      <td>...</td>\n",
       "      <td>...</td>\n",
       "      <td>...</td>\n",
       "      <td>...</td>\n",
       "    </tr>\n",
       "    <tr>\n",
       "      <th>210</th>\n",
       "      <td>1.51623</td>\n",
       "      <td>14.14</td>\n",
       "      <td>0.00</td>\n",
       "      <td>2.88</td>\n",
       "      <td>72.61</td>\n",
       "      <td>0.08</td>\n",
       "      <td>9.18</td>\n",
       "      <td>1.06</td>\n",
       "      <td>0.00</td>\n",
       "      <td>7</td>\n",
       "    </tr>\n",
       "    <tr>\n",
       "      <th>211</th>\n",
       "      <td>1.51685</td>\n",
       "      <td>14.92</td>\n",
       "      <td>0.00</td>\n",
       "      <td>1.99</td>\n",
       "      <td>73.06</td>\n",
       "      <td>0.00</td>\n",
       "      <td>8.40</td>\n",
       "      <td>1.59</td>\n",
       "      <td>0.00</td>\n",
       "      <td>7</td>\n",
       "    </tr>\n",
       "    <tr>\n",
       "      <th>212</th>\n",
       "      <td>1.52065</td>\n",
       "      <td>14.36</td>\n",
       "      <td>0.00</td>\n",
       "      <td>2.02</td>\n",
       "      <td>73.42</td>\n",
       "      <td>0.00</td>\n",
       "      <td>8.44</td>\n",
       "      <td>1.64</td>\n",
       "      <td>0.00</td>\n",
       "      <td>7</td>\n",
       "    </tr>\n",
       "    <tr>\n",
       "      <th>213</th>\n",
       "      <td>1.51651</td>\n",
       "      <td>14.38</td>\n",
       "      <td>0.00</td>\n",
       "      <td>1.94</td>\n",
       "      <td>73.61</td>\n",
       "      <td>0.00</td>\n",
       "      <td>8.48</td>\n",
       "      <td>1.57</td>\n",
       "      <td>0.00</td>\n",
       "      <td>7</td>\n",
       "    </tr>\n",
       "    <tr>\n",
       "      <th>214</th>\n",
       "      <td>1.51711</td>\n",
       "      <td>14.23</td>\n",
       "      <td>0.00</td>\n",
       "      <td>2.08</td>\n",
       "      <td>73.36</td>\n",
       "      <td>0.00</td>\n",
       "      <td>8.62</td>\n",
       "      <td>1.67</td>\n",
       "      <td>0.00</td>\n",
       "      <td>7</td>\n",
       "    </tr>\n",
       "  </tbody>\n",
       "</table>\n",
       "<p>213 rows × 10 columns</p>\n",
       "</div>"
      ],
      "text/plain": [
       "          RI     Na    Mg    AI     SI     K    Ca    Ba    Fe  Types of glass\n",
       "id                                                                            \n",
       "2    1.51761  13.89  3.60  1.36  72.73  0.48  7.83  0.00  0.00               1\n",
       "3    1.51618  13.53  3.55  1.54  72.99  0.39  7.78  0.00  0.00               1\n",
       "4    1.51766  13.21  3.69  1.29  72.61  0.57  8.22  0.00  0.00               1\n",
       "5    1.51742  13.27  3.62  1.24  73.08  0.55  8.07  0.00  0.00               1\n",
       "6    1.51596  12.79  3.61  1.62  72.97  0.64  8.07  0.00  0.26               1\n",
       "..       ...    ...   ...   ...    ...   ...   ...   ...   ...             ...\n",
       "210  1.51623  14.14  0.00  2.88  72.61  0.08  9.18  1.06  0.00               7\n",
       "211  1.51685  14.92  0.00  1.99  73.06  0.00  8.40  1.59  0.00               7\n",
       "212  1.52065  14.36  0.00  2.02  73.42  0.00  8.44  1.64  0.00               7\n",
       "213  1.51651  14.38  0.00  1.94  73.61  0.00  8.48  1.57  0.00               7\n",
       "214  1.51711  14.23  0.00  2.08  73.36  0.00  8.62  1.67  0.00               7\n",
       "\n",
       "[213 rows x 10 columns]"
      ]
     },
     "execution_count": 99,
     "metadata": {},
     "output_type": "execute_result"
    }
   ],
   "source": [
    "df"
   ]
  },
  {
   "cell_type": "code",
   "execution_count": 96,
   "id": "f5a430c7",
   "metadata": {},
   "outputs": [
    {
     "data": {
      "text/html": [
       "<div>\n",
       "<style scoped>\n",
       "    .dataframe tbody tr th:only-of-type {\n",
       "        vertical-align: middle;\n",
       "    }\n",
       "\n",
       "    .dataframe tbody tr th {\n",
       "        vertical-align: top;\n",
       "    }\n",
       "\n",
       "    .dataframe thead th {\n",
       "        text-align: right;\n",
       "    }\n",
       "</style>\n",
       "<table border=\"1\" class=\"dataframe\">\n",
       "  <thead>\n",
       "    <tr style=\"text-align: right;\">\n",
       "      <th></th>\n",
       "      <th>Types of glass</th>\n",
       "    </tr>\n",
       "  </thead>\n",
       "  <tbody>\n",
       "    <tr>\n",
       "      <th>373</th>\n",
       "      <td>6</td>\n",
       "    </tr>\n",
       "    <tr>\n",
       "      <th>39</th>\n",
       "      <td>1</td>\n",
       "    </tr>\n",
       "    <tr>\n",
       "      <th>340</th>\n",
       "      <td>5</td>\n",
       "    </tr>\n",
       "    <tr>\n",
       "      <th>218</th>\n",
       "      <td>1</td>\n",
       "    </tr>\n",
       "    <tr>\n",
       "      <th>155</th>\n",
       "      <td>3</td>\n",
       "    </tr>\n",
       "    <tr>\n",
       "      <th>...</th>\n",
       "      <td>...</td>\n",
       "    </tr>\n",
       "    <tr>\n",
       "      <th>196</th>\n",
       "      <td>7</td>\n",
       "    </tr>\n",
       "    <tr>\n",
       "      <th>195</th>\n",
       "      <td>7</td>\n",
       "    </tr>\n",
       "    <tr>\n",
       "      <th>26</th>\n",
       "      <td>1</td>\n",
       "    </tr>\n",
       "    <tr>\n",
       "      <th>7</th>\n",
       "      <td>1</td>\n",
       "    </tr>\n",
       "    <tr>\n",
       "      <th>415</th>\n",
       "      <td>7</td>\n",
       "    </tr>\n",
       "  </tbody>\n",
       "</table>\n",
       "<p>137 rows × 1 columns</p>\n",
       "</div>"
      ],
      "text/plain": [
       "     Types of glass\n",
       "373               6\n",
       "39                1\n",
       "340               5\n",
       "218               1\n",
       "155               3\n",
       "..              ...\n",
       "196               7\n",
       "195               7\n",
       "26                1\n",
       "7                 1\n",
       "415               7\n",
       "\n",
       "[137 rows x 1 columns]"
      ]
     },
     "execution_count": 96,
     "metadata": {},
     "output_type": "execute_result"
    }
   ],
   "source": [
    "y_test"
   ]
  },
  {
   "cell_type": "code",
   "execution_count": 103,
   "id": "ba050d7a",
   "metadata": {},
   "outputs": [],
   "source": [
    "beta = gbc.predict(x_test)\n",
    "gama = pd.DataFrame(beta)"
   ]
  },
  {
   "cell_type": "code",
   "execution_count": 104,
   "id": "358fb275",
   "metadata": {},
   "outputs": [],
   "source": [
    "theta=pd.DataFrame(y_test)"
   ]
  },
  {
   "cell_type": "code",
   "execution_count": 105,
   "id": "9901ca5a",
   "metadata": {},
   "outputs": [
    {
     "data": {
      "text/plain": [
       "Types of glass\n",
       "1                 30\n",
       "7                 28\n",
       "2                 25\n",
       "6                 23\n",
       "5                 17\n",
       "3                 14\n",
       "dtype: int64"
      ]
     },
     "execution_count": 105,
     "metadata": {},
     "output_type": "execute_result"
    }
   ],
   "source": [
    "y_test.value_counts()"
   ]
  },
  {
   "cell_type": "code",
   "execution_count": 106,
   "id": "854a1f36",
   "metadata": {},
   "outputs": [
    {
     "data": {
      "text/plain": [
       "7    29\n",
       "1    25\n",
       "2    25\n",
       "6    23\n",
       "5    18\n",
       "3    17\n",
       "dtype: int64"
      ]
     },
     "execution_count": 106,
     "metadata": {},
     "output_type": "execute_result"
    }
   ],
   "source": [
    "gama.value_counts()"
   ]
  },
  {
   "cell_type": "code",
   "execution_count": 107,
   "id": "2f9adb2e",
   "metadata": {},
   "outputs": [],
   "source": [
    "gama.columns = ['predi']"
   ]
  },
  {
   "cell_type": "code",
   "execution_count": 108,
   "id": "5dcf95f6",
   "metadata": {},
   "outputs": [],
   "source": [
    "gama['id'] = np.arange(len(gama))\n",
    "theta['id'] = np.arange(len(theta))"
   ]
  },
  {
   "cell_type": "code",
   "execution_count": 109,
   "id": "b9932864",
   "metadata": {},
   "outputs": [],
   "source": [
    "compare = theta.merge(gama)"
   ]
  },
  {
   "cell_type": "code",
   "execution_count": 112,
   "id": "6039f234",
   "metadata": {},
   "outputs": [
    {
     "data": {
      "text/html": [
       "<div>\n",
       "<style scoped>\n",
       "    .dataframe tbody tr th:only-of-type {\n",
       "        vertical-align: middle;\n",
       "    }\n",
       "\n",
       "    .dataframe tbody tr th {\n",
       "        vertical-align: top;\n",
       "    }\n",
       "\n",
       "    .dataframe thead th {\n",
       "        text-align: right;\n",
       "    }\n",
       "</style>\n",
       "<table border=\"1\" class=\"dataframe\">\n",
       "  <thead>\n",
       "    <tr style=\"text-align: right;\">\n",
       "      <th></th>\n",
       "      <th>Types of glass</th>\n",
       "      <th>predi</th>\n",
       "    </tr>\n",
       "    <tr>\n",
       "      <th>id</th>\n",
       "      <th></th>\n",
       "      <th></th>\n",
       "    </tr>\n",
       "  </thead>\n",
       "  <tbody>\n",
       "    <tr>\n",
       "      <th>0</th>\n",
       "      <td>6</td>\n",
       "      <td>6</td>\n",
       "    </tr>\n",
       "    <tr>\n",
       "      <th>1</th>\n",
       "      <td>1</td>\n",
       "      <td>1</td>\n",
       "    </tr>\n",
       "    <tr>\n",
       "      <th>2</th>\n",
       "      <td>5</td>\n",
       "      <td>5</td>\n",
       "    </tr>\n",
       "    <tr>\n",
       "      <th>3</th>\n",
       "      <td>1</td>\n",
       "      <td>2</td>\n",
       "    </tr>\n",
       "    <tr>\n",
       "      <th>4</th>\n",
       "      <td>3</td>\n",
       "      <td>3</td>\n",
       "    </tr>\n",
       "    <tr>\n",
       "      <th>...</th>\n",
       "      <td>...</td>\n",
       "      <td>...</td>\n",
       "    </tr>\n",
       "    <tr>\n",
       "      <th>132</th>\n",
       "      <td>7</td>\n",
       "      <td>7</td>\n",
       "    </tr>\n",
       "    <tr>\n",
       "      <th>133</th>\n",
       "      <td>7</td>\n",
       "      <td>7</td>\n",
       "    </tr>\n",
       "    <tr>\n",
       "      <th>134</th>\n",
       "      <td>1</td>\n",
       "      <td>1</td>\n",
       "    </tr>\n",
       "    <tr>\n",
       "      <th>135</th>\n",
       "      <td>1</td>\n",
       "      <td>1</td>\n",
       "    </tr>\n",
       "    <tr>\n",
       "      <th>136</th>\n",
       "      <td>7</td>\n",
       "      <td>7</td>\n",
       "    </tr>\n",
       "  </tbody>\n",
       "</table>\n",
       "<p>137 rows × 2 columns</p>\n",
       "</div>"
      ],
      "text/plain": [
       "     Types of glass  predi\n",
       "id                        \n",
       "0                 6      6\n",
       "1                 1      1\n",
       "2                 5      5\n",
       "3                 1      2\n",
       "4                 3      3\n",
       "..              ...    ...\n",
       "132               7      7\n",
       "133               7      7\n",
       "134               1      1\n",
       "135               1      1\n",
       "136               7      7\n",
       "\n",
       "[137 rows x 2 columns]"
      ]
     },
     "execution_count": 112,
     "metadata": {},
     "output_type": "execute_result"
    }
   ],
   "source": [
    "compare.set_index('id')"
   ]
  }
 ],
 "metadata": {
  "kernelspec": {
   "display_name": "Python 3 (ipykernel)",
   "language": "python",
   "name": "python3"
  },
  "language_info": {
   "codemirror_mode": {
    "name": "ipython",
    "version": 3
   },
   "file_extension": ".py",
   "mimetype": "text/x-python",
   "name": "python",
   "nbconvert_exporter": "python",
   "pygments_lexer": "ipython3",
   "version": "3.9.16"
  }
 },
 "nbformat": 4,
 "nbformat_minor": 5
}
